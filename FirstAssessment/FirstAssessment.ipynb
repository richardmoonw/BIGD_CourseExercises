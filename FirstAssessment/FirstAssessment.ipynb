{
  "nbformat": 4,
  "nbformat_minor": 0,
  "metadata": {
    "colab": {
      "name": "Parcial I Ricardo Luna Guerrero.ipynb",
      "provenance": [],
      "collapsed_sections": []
    },
    "kernelspec": {
      "name": "python3",
      "display_name": "Python 3"
    }
  },
  "cells": [
    {
      "cell_type": "markdown",
      "metadata": {
        "id": "o-kAo8ELND-Q"
      },
      "source": [
        "# Project Description\r\n",
        "It is required to predict the sale price for a given car through the analysis of data contained in a determined dataset. The research will follow the next steps:\r\n",
        "1. Initial Hypothesis.\r\n",
        "2. Import the required packages and libraries.\r\n",
        "3. Load the required dataset in a DataFrame.\r\n",
        "  1. Visualize the DataFrame to be sure that the loading was successful.\r\n",
        "    1. First 10 elements.\r\n",
        "    2. Last 10 elements.\r\n",
        "    3. Length.\r\n",
        "    4. Shape.\r\n",
        "    5. Main statistic measures.\r\n",
        "    6. Data types for each column.\r\n",
        "    7. Number of elements for each column.\r\n",
        "4. Cleaning and Selection.\r\n",
        "  1. Columns removal (editing).\r\n",
        "  2. Rows removal (condensation).\r\n",
        "    1. Duplicated rows.\r\n",
        "    2. Rows with missing data.\r\n",
        "5. Data Transformation.\r\n",
        "  1. Convert some data to their numeric value.\r\n",
        "  2. Convert categorical data to symbolic data.\r\n",
        "  3. Grouping or data discretization.\r\n",
        "6. Data Mining.\r\n",
        "  1. Visual analysis of the data.\r\n",
        "7. Prediction model generation.\r\n",
        "  1. Generation of the model.\r\n",
        "  2. Model measures and visualization.\r\n",
        "8. Proving the model.\r\n",
        "9. References."
      ]
    },
    {
      "cell_type": "markdown",
      "metadata": {
        "id": "WH9s08O7e6g_"
      },
      "source": [
        "## 1. Initial Hypothesis\r\n",
        "It is believed that the engine power (measured as brake horsepower [bhp]) of a car has a direct influence in its selling price. So, the project pretends to demonstrate how true that statement is through the analysis of the correlation between both variables and some other metrics given by the construction of a linear regression model.\r\n",
        "\r\n",
        "During all the process, there may appear some additional data or information that may not have any influence on the desired result, but as much as it is considered relevant, some conclusions will be added to the report."
      ]
    },
    {
      "cell_type": "markdown",
      "metadata": {
        "id": "LC1DcVGdPkVN"
      },
      "source": [
        "## 2. Import the required packages and libraries.\r\n",
        "The step is extremely recommended because there are a lot of pretty cool packages, modules and libraries that can make all the process so easy. If you decide to not use them, you'll have to write tons of lines of code and at least you have infinite time, you will not be able to do that. Some important concepts to understand are the following:\r\n",
        "1. A package is a collection of related modules that work together to provide certain functionality. These modules are contained within a folder and can be imported just like any other modules (Cepalia, 2021). \r\n",
        "2. A module is a Python file that’s intended to be imported into scripts or other modules. It often defines members like classes, functions, and variables intended to be used in other files that import it (Cepalia, 2021).\r\n",
        "3. A library is an umbrella term that loosely means “a bundle of code.” These can have tens or even hundreds of individual modules that can provide a wide range of functionality (Cepalia, 2021). "
      ]
    },
    {
      "cell_type": "code",
      "metadata": {
        "id": "F9G69AuUM-Be"
      },
      "source": [
        "import pandas as pd\r\n",
        "import numpy as np\r\n",
        "import seaborn as sns\r\n",
        "import matplotlib.pyplot as plt\r\n",
        "from sklearn.linear_model import LinearRegression\r\n",
        "from sklearn.metrics import mean_squared_error, r2_score\r\n",
        "from scipy.stats import pearsonr"
      ],
      "execution_count": null,
      "outputs": []
    },
    {
      "cell_type": "markdown",
      "metadata": {
        "id": "mNAoJTQWQSGj"
      },
      "source": [
        "## 3. Load the required dataset in a DataFrame.\r\n",
        "A DataFrame is a 2-dimensional labeled data structure with columns of potentially different types (pandas, 2021). \r\n",
        "\r\n",
        "It is important to understand and have clear the concept of DataFrame, because it is the primary pandas data structure, so you need to be familiar with it in order to perform some important actions in and over it.\r\n",
        "\r\n",
        "During the current step, you will understand at a top level how the DataFrame (and the data set) is structured, so you will be able to transform, modify, group and extract some information from it thorugh the next phases."
      ]
    },
    {
      "cell_type": "code",
      "metadata": {
        "id": "RRP4chbqQqfd"
      },
      "source": [
        "df = pd.read_csv('/content/sample_data/Car details v3.csv')\r\n"
      ],
      "execution_count": null,
      "outputs": []
    },
    {
      "cell_type": "markdown",
      "metadata": {
        "id": "9rtjvdHyQa50"
      },
      "source": [
        "### 3.1. Visualize the DataFrame to be sure that the loading was successful.\r\n",
        "If you type the name of a DataFrame as the final statement within a code cell, you will be able to see its basic structure and some data in a table-like representation."
      ]
    },
    {
      "cell_type": "code",
      "metadata": {
        "colab": {
          "base_uri": "https://localhost:8080/",
          "height": 597
        },
        "id": "PM6w-l_6RI_S",
        "outputId": "94c2f81f-9019-41a3-a139-32e2fe05f8ec"
      },
      "source": [
        "df"
      ],
      "execution_count": null,
      "outputs": [
        {
          "output_type": "execute_result",
          "data": {
            "text/html": [
              "<div>\n",
              "<style scoped>\n",
              "    .dataframe tbody tr th:only-of-type {\n",
              "        vertical-align: middle;\n",
              "    }\n",
              "\n",
              "    .dataframe tbody tr th {\n",
              "        vertical-align: top;\n",
              "    }\n",
              "\n",
              "    .dataframe thead th {\n",
              "        text-align: right;\n",
              "    }\n",
              "</style>\n",
              "<table border=\"1\" class=\"dataframe\">\n",
              "  <thead>\n",
              "    <tr style=\"text-align: right;\">\n",
              "      <th></th>\n",
              "      <th>name</th>\n",
              "      <th>year</th>\n",
              "      <th>selling_price</th>\n",
              "      <th>km_driven</th>\n",
              "      <th>fuel</th>\n",
              "      <th>seller_type</th>\n",
              "      <th>transmission</th>\n",
              "      <th>owner</th>\n",
              "      <th>mileage</th>\n",
              "      <th>engine</th>\n",
              "      <th>max_power</th>\n",
              "      <th>torque</th>\n",
              "      <th>seats</th>\n",
              "    </tr>\n",
              "  </thead>\n",
              "  <tbody>\n",
              "    <tr>\n",
              "      <th>0</th>\n",
              "      <td>Maruti Swift Dzire VDI</td>\n",
              "      <td>2014</td>\n",
              "      <td>450000</td>\n",
              "      <td>145500</td>\n",
              "      <td>Diesel</td>\n",
              "      <td>Individual</td>\n",
              "      <td>Manual</td>\n",
              "      <td>First Owner</td>\n",
              "      <td>23.4 kmpl</td>\n",
              "      <td>1248 CC</td>\n",
              "      <td>74 bhp</td>\n",
              "      <td>190Nm@ 2000rpm</td>\n",
              "      <td>5.0</td>\n",
              "    </tr>\n",
              "    <tr>\n",
              "      <th>1</th>\n",
              "      <td>Skoda Rapid 1.5 TDI Ambition</td>\n",
              "      <td>2014</td>\n",
              "      <td>370000</td>\n",
              "      <td>120000</td>\n",
              "      <td>Diesel</td>\n",
              "      <td>Individual</td>\n",
              "      <td>Manual</td>\n",
              "      <td>Second Owner</td>\n",
              "      <td>21.14 kmpl</td>\n",
              "      <td>1498 CC</td>\n",
              "      <td>103.52 bhp</td>\n",
              "      <td>250Nm@ 1500-2500rpm</td>\n",
              "      <td>5.0</td>\n",
              "    </tr>\n",
              "    <tr>\n",
              "      <th>2</th>\n",
              "      <td>Honda City 2017-2020 EXi</td>\n",
              "      <td>2006</td>\n",
              "      <td>158000</td>\n",
              "      <td>140000</td>\n",
              "      <td>Petrol</td>\n",
              "      <td>Individual</td>\n",
              "      <td>Manual</td>\n",
              "      <td>Third Owner</td>\n",
              "      <td>17.7 kmpl</td>\n",
              "      <td>1497 CC</td>\n",
              "      <td>78 bhp</td>\n",
              "      <td>12.7@ 2,700(kgm@ rpm)</td>\n",
              "      <td>5.0</td>\n",
              "    </tr>\n",
              "    <tr>\n",
              "      <th>3</th>\n",
              "      <td>Hyundai i20 Sportz Diesel</td>\n",
              "      <td>2010</td>\n",
              "      <td>225000</td>\n",
              "      <td>127000</td>\n",
              "      <td>Diesel</td>\n",
              "      <td>Individual</td>\n",
              "      <td>Manual</td>\n",
              "      <td>First Owner</td>\n",
              "      <td>23.0 kmpl</td>\n",
              "      <td>1396 CC</td>\n",
              "      <td>90 bhp</td>\n",
              "      <td>22.4 kgm at 1750-2750rpm</td>\n",
              "      <td>5.0</td>\n",
              "    </tr>\n",
              "    <tr>\n",
              "      <th>4</th>\n",
              "      <td>Maruti Swift VXI BSIII</td>\n",
              "      <td>2007</td>\n",
              "      <td>130000</td>\n",
              "      <td>120000</td>\n",
              "      <td>Petrol</td>\n",
              "      <td>Individual</td>\n",
              "      <td>Manual</td>\n",
              "      <td>First Owner</td>\n",
              "      <td>16.1 kmpl</td>\n",
              "      <td>1298 CC</td>\n",
              "      <td>88.2 bhp</td>\n",
              "      <td>11.5@ 4,500(kgm@ rpm)</td>\n",
              "      <td>5.0</td>\n",
              "    </tr>\n",
              "    <tr>\n",
              "      <th>...</th>\n",
              "      <td>...</td>\n",
              "      <td>...</td>\n",
              "      <td>...</td>\n",
              "      <td>...</td>\n",
              "      <td>...</td>\n",
              "      <td>...</td>\n",
              "      <td>...</td>\n",
              "      <td>...</td>\n",
              "      <td>...</td>\n",
              "      <td>...</td>\n",
              "      <td>...</td>\n",
              "      <td>...</td>\n",
              "      <td>...</td>\n",
              "    </tr>\n",
              "    <tr>\n",
              "      <th>8123</th>\n",
              "      <td>Hyundai i20 Magna</td>\n",
              "      <td>2013</td>\n",
              "      <td>320000</td>\n",
              "      <td>110000</td>\n",
              "      <td>Petrol</td>\n",
              "      <td>Individual</td>\n",
              "      <td>Manual</td>\n",
              "      <td>First Owner</td>\n",
              "      <td>18.5 kmpl</td>\n",
              "      <td>1197 CC</td>\n",
              "      <td>82.85 bhp</td>\n",
              "      <td>113.7Nm@ 4000rpm</td>\n",
              "      <td>5.0</td>\n",
              "    </tr>\n",
              "    <tr>\n",
              "      <th>8124</th>\n",
              "      <td>Hyundai Verna CRDi SX</td>\n",
              "      <td>2007</td>\n",
              "      <td>135000</td>\n",
              "      <td>119000</td>\n",
              "      <td>Diesel</td>\n",
              "      <td>Individual</td>\n",
              "      <td>Manual</td>\n",
              "      <td>Fourth &amp; Above Owner</td>\n",
              "      <td>16.8 kmpl</td>\n",
              "      <td>1493 CC</td>\n",
              "      <td>110 bhp</td>\n",
              "      <td>24@ 1,900-2,750(kgm@ rpm)</td>\n",
              "      <td>5.0</td>\n",
              "    </tr>\n",
              "    <tr>\n",
              "      <th>8125</th>\n",
              "      <td>Maruti Swift Dzire ZDi</td>\n",
              "      <td>2009</td>\n",
              "      <td>382000</td>\n",
              "      <td>120000</td>\n",
              "      <td>Diesel</td>\n",
              "      <td>Individual</td>\n",
              "      <td>Manual</td>\n",
              "      <td>First Owner</td>\n",
              "      <td>19.3 kmpl</td>\n",
              "      <td>1248 CC</td>\n",
              "      <td>73.9 bhp</td>\n",
              "      <td>190Nm@ 2000rpm</td>\n",
              "      <td>5.0</td>\n",
              "    </tr>\n",
              "    <tr>\n",
              "      <th>8126</th>\n",
              "      <td>Tata Indigo CR4</td>\n",
              "      <td>2013</td>\n",
              "      <td>290000</td>\n",
              "      <td>25000</td>\n",
              "      <td>Diesel</td>\n",
              "      <td>Individual</td>\n",
              "      <td>Manual</td>\n",
              "      <td>First Owner</td>\n",
              "      <td>23.57 kmpl</td>\n",
              "      <td>1396 CC</td>\n",
              "      <td>70 bhp</td>\n",
              "      <td>140Nm@ 1800-3000rpm</td>\n",
              "      <td>5.0</td>\n",
              "    </tr>\n",
              "    <tr>\n",
              "      <th>8127</th>\n",
              "      <td>Tata Indigo CR4</td>\n",
              "      <td>2013</td>\n",
              "      <td>290000</td>\n",
              "      <td>25000</td>\n",
              "      <td>Diesel</td>\n",
              "      <td>Individual</td>\n",
              "      <td>Manual</td>\n",
              "      <td>First Owner</td>\n",
              "      <td>23.57 kmpl</td>\n",
              "      <td>1396 CC</td>\n",
              "      <td>70 bhp</td>\n",
              "      <td>140Nm@ 1800-3000rpm</td>\n",
              "      <td>5.0</td>\n",
              "    </tr>\n",
              "  </tbody>\n",
              "</table>\n",
              "<p>8128 rows × 13 columns</p>\n",
              "</div>"
            ],
            "text/plain": [
              "                              name  year  ...                     torque  seats\n",
              "0           Maruti Swift Dzire VDI  2014  ...             190Nm@ 2000rpm    5.0\n",
              "1     Skoda Rapid 1.5 TDI Ambition  2014  ...        250Nm@ 1500-2500rpm    5.0\n",
              "2         Honda City 2017-2020 EXi  2006  ...      12.7@ 2,700(kgm@ rpm)    5.0\n",
              "3        Hyundai i20 Sportz Diesel  2010  ...   22.4 kgm at 1750-2750rpm    5.0\n",
              "4           Maruti Swift VXI BSIII  2007  ...      11.5@ 4,500(kgm@ rpm)    5.0\n",
              "...                            ...   ...  ...                        ...    ...\n",
              "8123             Hyundai i20 Magna  2013  ...           113.7Nm@ 4000rpm    5.0\n",
              "8124         Hyundai Verna CRDi SX  2007  ...  24@ 1,900-2,750(kgm@ rpm)    5.0\n",
              "8125        Maruti Swift Dzire ZDi  2009  ...             190Nm@ 2000rpm    5.0\n",
              "8126               Tata Indigo CR4  2013  ...        140Nm@ 1800-3000rpm    5.0\n",
              "8127               Tata Indigo CR4  2013  ...        140Nm@ 1800-3000rpm    5.0\n",
              "\n",
              "[8128 rows x 13 columns]"
            ]
          },
          "metadata": {
            "tags": []
          },
          "execution_count": 160
        }
      ]
    },
    {
      "cell_type": "markdown",
      "metadata": {
        "id": "F5l7JBtaQf1B"
      },
      "source": [
        "#### 3.1.1. First 10 elements.\r\n",
        "The head function returns the first n rows for the object based on position. It is useful for quickly testing if your object has the right type of data in it (pandas, 2021). "
      ]
    },
    {
      "cell_type": "code",
      "metadata": {
        "colab": {
          "base_uri": "https://localhost:8080/",
          "height": 537
        },
        "id": "g-scZ6vpRKWI",
        "outputId": "4a9b05f7-0d5e-4963-fd46-633c67696169"
      },
      "source": [
        "df.head(10)"
      ],
      "execution_count": null,
      "outputs": [
        {
          "output_type": "execute_result",
          "data": {
            "text/html": [
              "<div>\n",
              "<style scoped>\n",
              "    .dataframe tbody tr th:only-of-type {\n",
              "        vertical-align: middle;\n",
              "    }\n",
              "\n",
              "    .dataframe tbody tr th {\n",
              "        vertical-align: top;\n",
              "    }\n",
              "\n",
              "    .dataframe thead th {\n",
              "        text-align: right;\n",
              "    }\n",
              "</style>\n",
              "<table border=\"1\" class=\"dataframe\">\n",
              "  <thead>\n",
              "    <tr style=\"text-align: right;\">\n",
              "      <th></th>\n",
              "      <th>name</th>\n",
              "      <th>year</th>\n",
              "      <th>selling_price</th>\n",
              "      <th>km_driven</th>\n",
              "      <th>fuel</th>\n",
              "      <th>seller_type</th>\n",
              "      <th>transmission</th>\n",
              "      <th>owner</th>\n",
              "      <th>mileage</th>\n",
              "      <th>engine</th>\n",
              "      <th>max_power</th>\n",
              "      <th>torque</th>\n",
              "      <th>seats</th>\n",
              "    </tr>\n",
              "  </thead>\n",
              "  <tbody>\n",
              "    <tr>\n",
              "      <th>0</th>\n",
              "      <td>Maruti Swift Dzire VDI</td>\n",
              "      <td>2014</td>\n",
              "      <td>450000</td>\n",
              "      <td>145500</td>\n",
              "      <td>Diesel</td>\n",
              "      <td>Individual</td>\n",
              "      <td>Manual</td>\n",
              "      <td>First Owner</td>\n",
              "      <td>23.4 kmpl</td>\n",
              "      <td>1248 CC</td>\n",
              "      <td>74 bhp</td>\n",
              "      <td>190Nm@ 2000rpm</td>\n",
              "      <td>5.0</td>\n",
              "    </tr>\n",
              "    <tr>\n",
              "      <th>1</th>\n",
              "      <td>Skoda Rapid 1.5 TDI Ambition</td>\n",
              "      <td>2014</td>\n",
              "      <td>370000</td>\n",
              "      <td>120000</td>\n",
              "      <td>Diesel</td>\n",
              "      <td>Individual</td>\n",
              "      <td>Manual</td>\n",
              "      <td>Second Owner</td>\n",
              "      <td>21.14 kmpl</td>\n",
              "      <td>1498 CC</td>\n",
              "      <td>103.52 bhp</td>\n",
              "      <td>250Nm@ 1500-2500rpm</td>\n",
              "      <td>5.0</td>\n",
              "    </tr>\n",
              "    <tr>\n",
              "      <th>2</th>\n",
              "      <td>Honda City 2017-2020 EXi</td>\n",
              "      <td>2006</td>\n",
              "      <td>158000</td>\n",
              "      <td>140000</td>\n",
              "      <td>Petrol</td>\n",
              "      <td>Individual</td>\n",
              "      <td>Manual</td>\n",
              "      <td>Third Owner</td>\n",
              "      <td>17.7 kmpl</td>\n",
              "      <td>1497 CC</td>\n",
              "      <td>78 bhp</td>\n",
              "      <td>12.7@ 2,700(kgm@ rpm)</td>\n",
              "      <td>5.0</td>\n",
              "    </tr>\n",
              "    <tr>\n",
              "      <th>3</th>\n",
              "      <td>Hyundai i20 Sportz Diesel</td>\n",
              "      <td>2010</td>\n",
              "      <td>225000</td>\n",
              "      <td>127000</td>\n",
              "      <td>Diesel</td>\n",
              "      <td>Individual</td>\n",
              "      <td>Manual</td>\n",
              "      <td>First Owner</td>\n",
              "      <td>23.0 kmpl</td>\n",
              "      <td>1396 CC</td>\n",
              "      <td>90 bhp</td>\n",
              "      <td>22.4 kgm at 1750-2750rpm</td>\n",
              "      <td>5.0</td>\n",
              "    </tr>\n",
              "    <tr>\n",
              "      <th>4</th>\n",
              "      <td>Maruti Swift VXI BSIII</td>\n",
              "      <td>2007</td>\n",
              "      <td>130000</td>\n",
              "      <td>120000</td>\n",
              "      <td>Petrol</td>\n",
              "      <td>Individual</td>\n",
              "      <td>Manual</td>\n",
              "      <td>First Owner</td>\n",
              "      <td>16.1 kmpl</td>\n",
              "      <td>1298 CC</td>\n",
              "      <td>88.2 bhp</td>\n",
              "      <td>11.5@ 4,500(kgm@ rpm)</td>\n",
              "      <td>5.0</td>\n",
              "    </tr>\n",
              "    <tr>\n",
              "      <th>5</th>\n",
              "      <td>Hyundai Xcent 1.2 VTVT E Plus</td>\n",
              "      <td>2017</td>\n",
              "      <td>440000</td>\n",
              "      <td>45000</td>\n",
              "      <td>Petrol</td>\n",
              "      <td>Individual</td>\n",
              "      <td>Manual</td>\n",
              "      <td>First Owner</td>\n",
              "      <td>20.14 kmpl</td>\n",
              "      <td>1197 CC</td>\n",
              "      <td>81.86 bhp</td>\n",
              "      <td>113.75nm@ 4000rpm</td>\n",
              "      <td>5.0</td>\n",
              "    </tr>\n",
              "    <tr>\n",
              "      <th>6</th>\n",
              "      <td>Maruti Wagon R LXI DUO BSIII</td>\n",
              "      <td>2007</td>\n",
              "      <td>96000</td>\n",
              "      <td>175000</td>\n",
              "      <td>LPG</td>\n",
              "      <td>Individual</td>\n",
              "      <td>Manual</td>\n",
              "      <td>First Owner</td>\n",
              "      <td>17.3 km/kg</td>\n",
              "      <td>1061 CC</td>\n",
              "      <td>57.5 bhp</td>\n",
              "      <td>7.8@ 4,500(kgm@ rpm)</td>\n",
              "      <td>5.0</td>\n",
              "    </tr>\n",
              "    <tr>\n",
              "      <th>7</th>\n",
              "      <td>Maruti 800 DX BSII</td>\n",
              "      <td>2001</td>\n",
              "      <td>45000</td>\n",
              "      <td>5000</td>\n",
              "      <td>Petrol</td>\n",
              "      <td>Individual</td>\n",
              "      <td>Manual</td>\n",
              "      <td>Second Owner</td>\n",
              "      <td>16.1 kmpl</td>\n",
              "      <td>796 CC</td>\n",
              "      <td>37 bhp</td>\n",
              "      <td>59Nm@ 2500rpm</td>\n",
              "      <td>4.0</td>\n",
              "    </tr>\n",
              "    <tr>\n",
              "      <th>8</th>\n",
              "      <td>Toyota Etios VXD</td>\n",
              "      <td>2011</td>\n",
              "      <td>350000</td>\n",
              "      <td>90000</td>\n",
              "      <td>Diesel</td>\n",
              "      <td>Individual</td>\n",
              "      <td>Manual</td>\n",
              "      <td>First Owner</td>\n",
              "      <td>23.59 kmpl</td>\n",
              "      <td>1364 CC</td>\n",
              "      <td>67.1 bhp</td>\n",
              "      <td>170Nm@ 1800-2400rpm</td>\n",
              "      <td>5.0</td>\n",
              "    </tr>\n",
              "    <tr>\n",
              "      <th>9</th>\n",
              "      <td>Ford Figo Diesel Celebration Edition</td>\n",
              "      <td>2013</td>\n",
              "      <td>200000</td>\n",
              "      <td>169000</td>\n",
              "      <td>Diesel</td>\n",
              "      <td>Individual</td>\n",
              "      <td>Manual</td>\n",
              "      <td>First Owner</td>\n",
              "      <td>20.0 kmpl</td>\n",
              "      <td>1399 CC</td>\n",
              "      <td>68.1 bhp</td>\n",
              "      <td>160Nm@ 2000rpm</td>\n",
              "      <td>5.0</td>\n",
              "    </tr>\n",
              "  </tbody>\n",
              "</table>\n",
              "</div>"
            ],
            "text/plain": [
              "                                   name  year  ...                    torque  seats\n",
              "0                Maruti Swift Dzire VDI  2014  ...            190Nm@ 2000rpm    5.0\n",
              "1          Skoda Rapid 1.5 TDI Ambition  2014  ...       250Nm@ 1500-2500rpm    5.0\n",
              "2              Honda City 2017-2020 EXi  2006  ...     12.7@ 2,700(kgm@ rpm)    5.0\n",
              "3             Hyundai i20 Sportz Diesel  2010  ...  22.4 kgm at 1750-2750rpm    5.0\n",
              "4                Maruti Swift VXI BSIII  2007  ...     11.5@ 4,500(kgm@ rpm)    5.0\n",
              "5         Hyundai Xcent 1.2 VTVT E Plus  2017  ...         113.75nm@ 4000rpm    5.0\n",
              "6          Maruti Wagon R LXI DUO BSIII  2007  ...      7.8@ 4,500(kgm@ rpm)    5.0\n",
              "7                    Maruti 800 DX BSII  2001  ...             59Nm@ 2500rpm    4.0\n",
              "8                      Toyota Etios VXD  2011  ...       170Nm@ 1800-2400rpm    5.0\n",
              "9  Ford Figo Diesel Celebration Edition  2013  ...            160Nm@ 2000rpm    5.0\n",
              "\n",
              "[10 rows x 13 columns]"
            ]
          },
          "metadata": {
            "tags": []
          },
          "execution_count": 161
        }
      ]
    },
    {
      "cell_type": "markdown",
      "metadata": {
        "id": "JbfPbo0aRNF1"
      },
      "source": [
        "#### 3.1.2. Last 10 elements.\r\n",
        "The tail function returns last n rows from the object based on position. It is useful for quickly verifying data, for example, after sorting or appending rows (pandas, 2021)."
      ]
    },
    {
      "cell_type": "code",
      "metadata": {
        "colab": {
          "base_uri": "https://localhost:8080/",
          "height": 537
        },
        "id": "z4w_sXgKRSaZ",
        "outputId": "732c65a4-dacf-4bc4-f2f9-a643fd981b61"
      },
      "source": [
        "df.tail(10)"
      ],
      "execution_count": null,
      "outputs": [
        {
          "output_type": "execute_result",
          "data": {
            "text/html": [
              "<div>\n",
              "<style scoped>\n",
              "    .dataframe tbody tr th:only-of-type {\n",
              "        vertical-align: middle;\n",
              "    }\n",
              "\n",
              "    .dataframe tbody tr th {\n",
              "        vertical-align: top;\n",
              "    }\n",
              "\n",
              "    .dataframe thead th {\n",
              "        text-align: right;\n",
              "    }\n",
              "</style>\n",
              "<table border=\"1\" class=\"dataframe\">\n",
              "  <thead>\n",
              "    <tr style=\"text-align: right;\">\n",
              "      <th></th>\n",
              "      <th>name</th>\n",
              "      <th>year</th>\n",
              "      <th>selling_price</th>\n",
              "      <th>km_driven</th>\n",
              "      <th>fuel</th>\n",
              "      <th>seller_type</th>\n",
              "      <th>transmission</th>\n",
              "      <th>owner</th>\n",
              "      <th>mileage</th>\n",
              "      <th>engine</th>\n",
              "      <th>max_power</th>\n",
              "      <th>torque</th>\n",
              "      <th>seats</th>\n",
              "    </tr>\n",
              "  </thead>\n",
              "  <tbody>\n",
              "    <tr>\n",
              "      <th>8118</th>\n",
              "      <td>Hyundai i20 Magna</td>\n",
              "      <td>2013</td>\n",
              "      <td>380000</td>\n",
              "      <td>25000</td>\n",
              "      <td>Petrol</td>\n",
              "      <td>Individual</td>\n",
              "      <td>Manual</td>\n",
              "      <td>First Owner</td>\n",
              "      <td>18.5 kmpl</td>\n",
              "      <td>1197 CC</td>\n",
              "      <td>82.85 bhp</td>\n",
              "      <td>113.7Nm@ 4000rpm</td>\n",
              "      <td>5.0</td>\n",
              "    </tr>\n",
              "    <tr>\n",
              "      <th>8119</th>\n",
              "      <td>Maruti Wagon R LXI Optional</td>\n",
              "      <td>2017</td>\n",
              "      <td>360000</td>\n",
              "      <td>80000</td>\n",
              "      <td>Petrol</td>\n",
              "      <td>Individual</td>\n",
              "      <td>Manual</td>\n",
              "      <td>First Owner</td>\n",
              "      <td>20.51 kmpl</td>\n",
              "      <td>998 CC</td>\n",
              "      <td>67.04 bhp</td>\n",
              "      <td>90Nm@ 3500rpm</td>\n",
              "      <td>5.0</td>\n",
              "    </tr>\n",
              "    <tr>\n",
              "      <th>8120</th>\n",
              "      <td>Hyundai Santro Xing GLS</td>\n",
              "      <td>2008</td>\n",
              "      <td>120000</td>\n",
              "      <td>191000</td>\n",
              "      <td>Petrol</td>\n",
              "      <td>Individual</td>\n",
              "      <td>Manual</td>\n",
              "      <td>First Owner</td>\n",
              "      <td>17.92 kmpl</td>\n",
              "      <td>1086 CC</td>\n",
              "      <td>62.1 bhp</td>\n",
              "      <td>96.1Nm@ 3000rpm</td>\n",
              "      <td>5.0</td>\n",
              "    </tr>\n",
              "    <tr>\n",
              "      <th>8121</th>\n",
              "      <td>Maruti Wagon R VXI BS IV with ABS</td>\n",
              "      <td>2013</td>\n",
              "      <td>260000</td>\n",
              "      <td>50000</td>\n",
              "      <td>Petrol</td>\n",
              "      <td>Individual</td>\n",
              "      <td>Manual</td>\n",
              "      <td>Second Owner</td>\n",
              "      <td>18.9 kmpl</td>\n",
              "      <td>998 CC</td>\n",
              "      <td>67.1 bhp</td>\n",
              "      <td>90Nm@ 3500rpm</td>\n",
              "      <td>5.0</td>\n",
              "    </tr>\n",
              "    <tr>\n",
              "      <th>8122</th>\n",
              "      <td>Hyundai i20 Magna 1.4 CRDi</td>\n",
              "      <td>2014</td>\n",
              "      <td>475000</td>\n",
              "      <td>80000</td>\n",
              "      <td>Diesel</td>\n",
              "      <td>Individual</td>\n",
              "      <td>Manual</td>\n",
              "      <td>Second Owner</td>\n",
              "      <td>22.54 kmpl</td>\n",
              "      <td>1396 CC</td>\n",
              "      <td>88.73 bhp</td>\n",
              "      <td>219.7Nm@ 1500-2750rpm</td>\n",
              "      <td>5.0</td>\n",
              "    </tr>\n",
              "    <tr>\n",
              "      <th>8123</th>\n",
              "      <td>Hyundai i20 Magna</td>\n",
              "      <td>2013</td>\n",
              "      <td>320000</td>\n",
              "      <td>110000</td>\n",
              "      <td>Petrol</td>\n",
              "      <td>Individual</td>\n",
              "      <td>Manual</td>\n",
              "      <td>First Owner</td>\n",
              "      <td>18.5 kmpl</td>\n",
              "      <td>1197 CC</td>\n",
              "      <td>82.85 bhp</td>\n",
              "      <td>113.7Nm@ 4000rpm</td>\n",
              "      <td>5.0</td>\n",
              "    </tr>\n",
              "    <tr>\n",
              "      <th>8124</th>\n",
              "      <td>Hyundai Verna CRDi SX</td>\n",
              "      <td>2007</td>\n",
              "      <td>135000</td>\n",
              "      <td>119000</td>\n",
              "      <td>Diesel</td>\n",
              "      <td>Individual</td>\n",
              "      <td>Manual</td>\n",
              "      <td>Fourth &amp; Above Owner</td>\n",
              "      <td>16.8 kmpl</td>\n",
              "      <td>1493 CC</td>\n",
              "      <td>110 bhp</td>\n",
              "      <td>24@ 1,900-2,750(kgm@ rpm)</td>\n",
              "      <td>5.0</td>\n",
              "    </tr>\n",
              "    <tr>\n",
              "      <th>8125</th>\n",
              "      <td>Maruti Swift Dzire ZDi</td>\n",
              "      <td>2009</td>\n",
              "      <td>382000</td>\n",
              "      <td>120000</td>\n",
              "      <td>Diesel</td>\n",
              "      <td>Individual</td>\n",
              "      <td>Manual</td>\n",
              "      <td>First Owner</td>\n",
              "      <td>19.3 kmpl</td>\n",
              "      <td>1248 CC</td>\n",
              "      <td>73.9 bhp</td>\n",
              "      <td>190Nm@ 2000rpm</td>\n",
              "      <td>5.0</td>\n",
              "    </tr>\n",
              "    <tr>\n",
              "      <th>8126</th>\n",
              "      <td>Tata Indigo CR4</td>\n",
              "      <td>2013</td>\n",
              "      <td>290000</td>\n",
              "      <td>25000</td>\n",
              "      <td>Diesel</td>\n",
              "      <td>Individual</td>\n",
              "      <td>Manual</td>\n",
              "      <td>First Owner</td>\n",
              "      <td>23.57 kmpl</td>\n",
              "      <td>1396 CC</td>\n",
              "      <td>70 bhp</td>\n",
              "      <td>140Nm@ 1800-3000rpm</td>\n",
              "      <td>5.0</td>\n",
              "    </tr>\n",
              "    <tr>\n",
              "      <th>8127</th>\n",
              "      <td>Tata Indigo CR4</td>\n",
              "      <td>2013</td>\n",
              "      <td>290000</td>\n",
              "      <td>25000</td>\n",
              "      <td>Diesel</td>\n",
              "      <td>Individual</td>\n",
              "      <td>Manual</td>\n",
              "      <td>First Owner</td>\n",
              "      <td>23.57 kmpl</td>\n",
              "      <td>1396 CC</td>\n",
              "      <td>70 bhp</td>\n",
              "      <td>140Nm@ 1800-3000rpm</td>\n",
              "      <td>5.0</td>\n",
              "    </tr>\n",
              "  </tbody>\n",
              "</table>\n",
              "</div>"
            ],
            "text/plain": [
              "                                   name  year  ...                     torque  seats\n",
              "8118                  Hyundai i20 Magna  2013  ...           113.7Nm@ 4000rpm    5.0\n",
              "8119        Maruti Wagon R LXI Optional  2017  ...              90Nm@ 3500rpm    5.0\n",
              "8120            Hyundai Santro Xing GLS  2008  ...            96.1Nm@ 3000rpm    5.0\n",
              "8121  Maruti Wagon R VXI BS IV with ABS  2013  ...              90Nm@ 3500rpm    5.0\n",
              "8122         Hyundai i20 Magna 1.4 CRDi  2014  ...      219.7Nm@ 1500-2750rpm    5.0\n",
              "8123                  Hyundai i20 Magna  2013  ...           113.7Nm@ 4000rpm    5.0\n",
              "8124              Hyundai Verna CRDi SX  2007  ...  24@ 1,900-2,750(kgm@ rpm)    5.0\n",
              "8125             Maruti Swift Dzire ZDi  2009  ...             190Nm@ 2000rpm    5.0\n",
              "8126                    Tata Indigo CR4  2013  ...        140Nm@ 1800-3000rpm    5.0\n",
              "8127                    Tata Indigo CR4  2013  ...        140Nm@ 1800-3000rpm    5.0\n",
              "\n",
              "[10 rows x 13 columns]"
            ]
          },
          "metadata": {
            "tags": []
          },
          "execution_count": 162
        }
      ]
    },
    {
      "cell_type": "markdown",
      "metadata": {
        "id": "BLqMNwmWRXd9"
      },
      "source": [
        "#### 3.1.3. Length.\r\n",
        "The size property returns the number of elements in the underlying data (pandas, 2021).\r\n",
        "\r\n",
        "It can be useful if you want to know the length of a Series data structure. Keep in mind that that property counts all the fields within your Series object (even the missing values)."
      ]
    },
    {
      "cell_type": "code",
      "metadata": {
        "colab": {
          "base_uri": "https://localhost:8080/"
        },
        "id": "fXNy0uUUR63A",
        "outputId": "93d63646-205a-4a7a-9e0d-cd1a1ee111a6"
      },
      "source": [
        "name = df['name']\r\n",
        "year = df['year']\r\n",
        "selling_price = df['selling_price']\r\n",
        "km_driven = df['km_driven']\r\n",
        "fuel = df['fuel']\r\n",
        "seller_type = df['seller_type']\r\n",
        "transmission = df['transmission']\r\n",
        "owner = df['owner']\r\n",
        "mileage = df['mileage']\r\n",
        "engine = df['engine']\r\n",
        "max_power = df['max_power']\r\n",
        "torque = df['torque']\r\n",
        "seats = df['seats']\r\n",
        "\r\n",
        "print(\"\"\"\r\n",
        "The length of the name column is {}\\n\r\n",
        "The length of the year column is {}\\n\r\n",
        "The length of the selling_price column is {}\\n\r\n",
        "The length of the km_driven column is {}\\n\r\n",
        "The length of the fuel column is {}\\n\r\n",
        "The length of the seller_type column is {}\\n\r\n",
        "The length of the transmission column is {}\\n\r\n",
        "The length of the owner column is {}\\n\r\n",
        "The length of the mileage column is {}\\n\r\n",
        "The length of the engine column is {}\\n\r\n",
        "The length of the max_power column is {}\\n\r\n",
        "The length of the torque column is {}\\n\r\n",
        "The length of the seats column is {}\r\n",
        "\"\"\".format(name.size, name.size, selling_price.size, km_driven.size, fuel.size,\r\n",
        "           seller_type.size, transmission.size, owner.size, mileage.size, \r\n",
        "           engine.size, max_power.size, torque.size, seats.size))"
      ],
      "execution_count": null,
      "outputs": [
        {
          "output_type": "stream",
          "text": [
            "\n",
            "The length of the name column is 8128\n",
            "\n",
            "The length of the year column is 8128\n",
            "\n",
            "The length of the selling_price column is 8128\n",
            "\n",
            "The length of the km_driven column is 8128\n",
            "\n",
            "The length of the fuel column is 8128\n",
            "\n",
            "The length of the seller_type column is 8128\n",
            "\n",
            "The length of the transmission column is 8128\n",
            "\n",
            "The length of the owner column is 8128\n",
            "\n",
            "The length of the mileage column is 8128\n",
            "\n",
            "The length of the engine column is 8128\n",
            "\n",
            "The length of the max_power column is 8128\n",
            "\n",
            "The length of the torque column is 8128\n",
            "\n",
            "The length of the seats column is 8128\n",
            "\n"
          ],
          "name": "stdout"
        }
      ]
    },
    {
      "cell_type": "markdown",
      "metadata": {
        "id": "WrCekFeIRbnx"
      },
      "source": [
        "#### 3.1.4. Shape.\r\n",
        "The shape property is usually used to get the current shape of an array or DataFrame (NumPy, 2021).\r\n",
        "\r\n",
        "The result is a tuple with the number of rows and columns, respectively. That is very useful to know the rectangular dimensions of the DataFrame (if all the data were present, there would be rows x columns total values)."
      ]
    },
    {
      "cell_type": "code",
      "metadata": {
        "colab": {
          "base_uri": "https://localhost:8080/"
        },
        "id": "ySzBiX3FTyNN",
        "outputId": "9189c1e8-7832-490e-906c-d4d1b4f56aa5"
      },
      "source": [
        "print(df.shape)"
      ],
      "execution_count": null,
      "outputs": [
        {
          "output_type": "stream",
          "text": [
            "(8128, 13)\n"
          ],
          "name": "stdout"
        }
      ]
    },
    {
      "cell_type": "markdown",
      "metadata": {
        "id": "wMc67eh3ReLX"
      },
      "source": [
        "#### 3.1.5. Main statistic measures.\r\n",
        "The describe method generate descriptive statistics of the given DataFrame. Descriptive statistics include those that summarize the central tendency, dispersion, and shape of a dataset's distribution, excluding NaN values. It analyzes both numeric and object series, as well as DataFrame column sets of mixed data types. The output will vary depending on what is provided (pandas, 2021).\r\n",
        "\r\n",
        "Maybe the describe() method is one of the most importants, because it lets you see a brief statistical description of the data within your DataFrame, so you can get a very general image of it.\r\n",
        "\r\n"
      ]
    },
    {
      "cell_type": "code",
      "metadata": {
        "colab": {
          "base_uri": "https://localhost:8080/",
          "height": 300
        },
        "id": "-FSluhLuT87f",
        "outputId": "28415fa4-33cf-4c17-919f-ce3a0cbee89e"
      },
      "source": [
        "df.describe()"
      ],
      "execution_count": null,
      "outputs": [
        {
          "output_type": "execute_result",
          "data": {
            "text/html": [
              "<div>\n",
              "<style scoped>\n",
              "    .dataframe tbody tr th:only-of-type {\n",
              "        vertical-align: middle;\n",
              "    }\n",
              "\n",
              "    .dataframe tbody tr th {\n",
              "        vertical-align: top;\n",
              "    }\n",
              "\n",
              "    .dataframe thead th {\n",
              "        text-align: right;\n",
              "    }\n",
              "</style>\n",
              "<table border=\"1\" class=\"dataframe\">\n",
              "  <thead>\n",
              "    <tr style=\"text-align: right;\">\n",
              "      <th></th>\n",
              "      <th>year</th>\n",
              "      <th>selling_price</th>\n",
              "      <th>km_driven</th>\n",
              "      <th>seats</th>\n",
              "    </tr>\n",
              "  </thead>\n",
              "  <tbody>\n",
              "    <tr>\n",
              "      <th>count</th>\n",
              "      <td>8128.000000</td>\n",
              "      <td>8.128000e+03</td>\n",
              "      <td>8.128000e+03</td>\n",
              "      <td>7907.000000</td>\n",
              "    </tr>\n",
              "    <tr>\n",
              "      <th>mean</th>\n",
              "      <td>2013.804011</td>\n",
              "      <td>6.382718e+05</td>\n",
              "      <td>6.981951e+04</td>\n",
              "      <td>5.416719</td>\n",
              "    </tr>\n",
              "    <tr>\n",
              "      <th>std</th>\n",
              "      <td>4.044249</td>\n",
              "      <td>8.062534e+05</td>\n",
              "      <td>5.655055e+04</td>\n",
              "      <td>0.959588</td>\n",
              "    </tr>\n",
              "    <tr>\n",
              "      <th>min</th>\n",
              "      <td>1983.000000</td>\n",
              "      <td>2.999900e+04</td>\n",
              "      <td>1.000000e+00</td>\n",
              "      <td>2.000000</td>\n",
              "    </tr>\n",
              "    <tr>\n",
              "      <th>25%</th>\n",
              "      <td>2011.000000</td>\n",
              "      <td>2.549990e+05</td>\n",
              "      <td>3.500000e+04</td>\n",
              "      <td>5.000000</td>\n",
              "    </tr>\n",
              "    <tr>\n",
              "      <th>50%</th>\n",
              "      <td>2015.000000</td>\n",
              "      <td>4.500000e+05</td>\n",
              "      <td>6.000000e+04</td>\n",
              "      <td>5.000000</td>\n",
              "    </tr>\n",
              "    <tr>\n",
              "      <th>75%</th>\n",
              "      <td>2017.000000</td>\n",
              "      <td>6.750000e+05</td>\n",
              "      <td>9.800000e+04</td>\n",
              "      <td>5.000000</td>\n",
              "    </tr>\n",
              "    <tr>\n",
              "      <th>max</th>\n",
              "      <td>2020.000000</td>\n",
              "      <td>1.000000e+07</td>\n",
              "      <td>2.360457e+06</td>\n",
              "      <td>14.000000</td>\n",
              "    </tr>\n",
              "  </tbody>\n",
              "</table>\n",
              "</div>"
            ],
            "text/plain": [
              "              year  selling_price     km_driven        seats\n",
              "count  8128.000000   8.128000e+03  8.128000e+03  7907.000000\n",
              "mean   2013.804011   6.382718e+05  6.981951e+04     5.416719\n",
              "std       4.044249   8.062534e+05  5.655055e+04     0.959588\n",
              "min    1983.000000   2.999900e+04  1.000000e+00     2.000000\n",
              "25%    2011.000000   2.549990e+05  3.500000e+04     5.000000\n",
              "50%    2015.000000   4.500000e+05  6.000000e+04     5.000000\n",
              "75%    2017.000000   6.750000e+05  9.800000e+04     5.000000\n",
              "max    2020.000000   1.000000e+07  2.360457e+06    14.000000"
            ]
          },
          "metadata": {
            "tags": []
          },
          "execution_count": 165
        }
      ]
    },
    {
      "cell_type": "markdown",
      "metadata": {
        "id": "ACKGU4qIRmJM"
      },
      "source": [
        "#### 3.1.6. Data types for each column.\r\n",
        "The dtypes property returns a Series with the data type of each column (pandas, 2021).\r\n",
        "\r\n",
        "It is important to be mindful of the data types of each column within your DataFrame because if a significant transformation is needed, you have to be sure of the types you are going to be working with.\r\n"
      ]
    },
    {
      "cell_type": "code",
      "metadata": {
        "colab": {
          "base_uri": "https://localhost:8080/"
        },
        "id": "57dvXqrjUPLK",
        "outputId": "55f75e01-a193-4766-f959-4d8283a6b7d3"
      },
      "source": [
        "df.dtypes"
      ],
      "execution_count": null,
      "outputs": [
        {
          "output_type": "execute_result",
          "data": {
            "text/plain": [
              "name              object\n",
              "year               int64\n",
              "selling_price      int64\n",
              "km_driven          int64\n",
              "fuel              object\n",
              "seller_type       object\n",
              "transmission      object\n",
              "owner             object\n",
              "mileage           object\n",
              "engine            object\n",
              "max_power         object\n",
              "torque            object\n",
              "seats            float64\n",
              "dtype: object"
            ]
          },
          "metadata": {
            "tags": []
          },
          "execution_count": 166
        }
      ]
    },
    {
      "cell_type": "markdown",
      "metadata": {
        "id": "K7ITov2VRsxP"
      },
      "source": [
        "#### 3.1.7. Number of elements for each column.\r\n",
        "The count() function returns the count of the non-NA cells for each column or row (pandas, 2019).\r\n",
        "\r\n",
        "The count() function can provide you valuable information about what type of cleaning processes you need. "
      ]
    },
    {
      "cell_type": "code",
      "metadata": {
        "colab": {
          "base_uri": "https://localhost:8080/"
        },
        "id": "TTg0difpUSK7",
        "outputId": "97b9cf32-e492-44e0-f479-83060c52ef0e"
      },
      "source": [
        "df.count()"
      ],
      "execution_count": null,
      "outputs": [
        {
          "output_type": "execute_result",
          "data": {
            "text/plain": [
              "name             8128\n",
              "year             8128\n",
              "selling_price    8128\n",
              "km_driven        8128\n",
              "fuel             8128\n",
              "seller_type      8128\n",
              "transmission     8128\n",
              "owner            8128\n",
              "mileage          7907\n",
              "engine           7907\n",
              "max_power        7913\n",
              "torque           7906\n",
              "seats            7907\n",
              "dtype: int64"
            ]
          },
          "metadata": {
            "tags": []
          },
          "execution_count": 167
        }
      ]
    },
    {
      "cell_type": "markdown",
      "metadata": {
        "id": "Jc-QM3gMUd8N"
      },
      "source": [
        "## 4. Cleaning and Selection.\r\n",
        "Once you have seen some of the data in the DataFrame, its shape, its main statistical measures, the data types for each column and the number of elements for each column (and therefore the number of missing values for them), the cleaning and selection process is a lot easier."
      ]
    },
    {
      "cell_type": "markdown",
      "metadata": {
        "id": "U7w1fgc1Upzu"
      },
      "source": [
        "### 4.1. Columns removal (editing).\r\n",
        "In the section some columns are removed because they do not add any value to the next phases. A column is removed from the DataFrame if and only if:\r\n",
        "- Each register contains unique data.\r\n",
        "- Its values are useless for the desired analysis.\r\n",
        "\r\n",
        "As it is said before, the applied functions were selected after seeing the data and other important measures. \r\n",
        "\r\n",
        "**IMPORTANT:** The columns removed can be interesting to analyze in other situations, but for the current project, it was decided to omit them just to focus in other kind of research."
      ]
    },
    {
      "cell_type": "code",
      "metadata": {
        "colab": {
          "base_uri": "https://localhost:8080/",
          "height": 424
        },
        "id": "N7vf-_rhVlOY",
        "outputId": "f6cc8417-74a2-40c7-f744-f5386dd13037"
      },
      "source": [
        "edited_df = df.drop(['name', 'torque', 'seller_type', 'owner', 'engine', 'seats'], axis=1)\r\n",
        "edited_df"
      ],
      "execution_count": null,
      "outputs": [
        {
          "output_type": "execute_result",
          "data": {
            "text/html": [
              "<div>\n",
              "<style scoped>\n",
              "    .dataframe tbody tr th:only-of-type {\n",
              "        vertical-align: middle;\n",
              "    }\n",
              "\n",
              "    .dataframe tbody tr th {\n",
              "        vertical-align: top;\n",
              "    }\n",
              "\n",
              "    .dataframe thead th {\n",
              "        text-align: right;\n",
              "    }\n",
              "</style>\n",
              "<table border=\"1\" class=\"dataframe\">\n",
              "  <thead>\n",
              "    <tr style=\"text-align: right;\">\n",
              "      <th></th>\n",
              "      <th>year</th>\n",
              "      <th>selling_price</th>\n",
              "      <th>km_driven</th>\n",
              "      <th>fuel</th>\n",
              "      <th>transmission</th>\n",
              "      <th>mileage</th>\n",
              "      <th>max_power</th>\n",
              "    </tr>\n",
              "  </thead>\n",
              "  <tbody>\n",
              "    <tr>\n",
              "      <th>0</th>\n",
              "      <td>2014</td>\n",
              "      <td>450000</td>\n",
              "      <td>145500</td>\n",
              "      <td>Diesel</td>\n",
              "      <td>Manual</td>\n",
              "      <td>23.4 kmpl</td>\n",
              "      <td>74 bhp</td>\n",
              "    </tr>\n",
              "    <tr>\n",
              "      <th>1</th>\n",
              "      <td>2014</td>\n",
              "      <td>370000</td>\n",
              "      <td>120000</td>\n",
              "      <td>Diesel</td>\n",
              "      <td>Manual</td>\n",
              "      <td>21.14 kmpl</td>\n",
              "      <td>103.52 bhp</td>\n",
              "    </tr>\n",
              "    <tr>\n",
              "      <th>2</th>\n",
              "      <td>2006</td>\n",
              "      <td>158000</td>\n",
              "      <td>140000</td>\n",
              "      <td>Petrol</td>\n",
              "      <td>Manual</td>\n",
              "      <td>17.7 kmpl</td>\n",
              "      <td>78 bhp</td>\n",
              "    </tr>\n",
              "    <tr>\n",
              "      <th>3</th>\n",
              "      <td>2010</td>\n",
              "      <td>225000</td>\n",
              "      <td>127000</td>\n",
              "      <td>Diesel</td>\n",
              "      <td>Manual</td>\n",
              "      <td>23.0 kmpl</td>\n",
              "      <td>90 bhp</td>\n",
              "    </tr>\n",
              "    <tr>\n",
              "      <th>4</th>\n",
              "      <td>2007</td>\n",
              "      <td>130000</td>\n",
              "      <td>120000</td>\n",
              "      <td>Petrol</td>\n",
              "      <td>Manual</td>\n",
              "      <td>16.1 kmpl</td>\n",
              "      <td>88.2 bhp</td>\n",
              "    </tr>\n",
              "    <tr>\n",
              "      <th>...</th>\n",
              "      <td>...</td>\n",
              "      <td>...</td>\n",
              "      <td>...</td>\n",
              "      <td>...</td>\n",
              "      <td>...</td>\n",
              "      <td>...</td>\n",
              "      <td>...</td>\n",
              "    </tr>\n",
              "    <tr>\n",
              "      <th>8123</th>\n",
              "      <td>2013</td>\n",
              "      <td>320000</td>\n",
              "      <td>110000</td>\n",
              "      <td>Petrol</td>\n",
              "      <td>Manual</td>\n",
              "      <td>18.5 kmpl</td>\n",
              "      <td>82.85 bhp</td>\n",
              "    </tr>\n",
              "    <tr>\n",
              "      <th>8124</th>\n",
              "      <td>2007</td>\n",
              "      <td>135000</td>\n",
              "      <td>119000</td>\n",
              "      <td>Diesel</td>\n",
              "      <td>Manual</td>\n",
              "      <td>16.8 kmpl</td>\n",
              "      <td>110 bhp</td>\n",
              "    </tr>\n",
              "    <tr>\n",
              "      <th>8125</th>\n",
              "      <td>2009</td>\n",
              "      <td>382000</td>\n",
              "      <td>120000</td>\n",
              "      <td>Diesel</td>\n",
              "      <td>Manual</td>\n",
              "      <td>19.3 kmpl</td>\n",
              "      <td>73.9 bhp</td>\n",
              "    </tr>\n",
              "    <tr>\n",
              "      <th>8126</th>\n",
              "      <td>2013</td>\n",
              "      <td>290000</td>\n",
              "      <td>25000</td>\n",
              "      <td>Diesel</td>\n",
              "      <td>Manual</td>\n",
              "      <td>23.57 kmpl</td>\n",
              "      <td>70 bhp</td>\n",
              "    </tr>\n",
              "    <tr>\n",
              "      <th>8127</th>\n",
              "      <td>2013</td>\n",
              "      <td>290000</td>\n",
              "      <td>25000</td>\n",
              "      <td>Diesel</td>\n",
              "      <td>Manual</td>\n",
              "      <td>23.57 kmpl</td>\n",
              "      <td>70 bhp</td>\n",
              "    </tr>\n",
              "  </tbody>\n",
              "</table>\n",
              "<p>8128 rows × 7 columns</p>\n",
              "</div>"
            ],
            "text/plain": [
              "      year  selling_price  km_driven  ... transmission     mileage   max_power\n",
              "0     2014         450000     145500  ...       Manual   23.4 kmpl      74 bhp\n",
              "1     2014         370000     120000  ...       Manual  21.14 kmpl  103.52 bhp\n",
              "2     2006         158000     140000  ...       Manual   17.7 kmpl      78 bhp\n",
              "3     2010         225000     127000  ...       Manual   23.0 kmpl      90 bhp\n",
              "4     2007         130000     120000  ...       Manual   16.1 kmpl    88.2 bhp\n",
              "...    ...            ...        ...  ...          ...         ...         ...\n",
              "8123  2013         320000     110000  ...       Manual   18.5 kmpl   82.85 bhp\n",
              "8124  2007         135000     119000  ...       Manual   16.8 kmpl     110 bhp\n",
              "8125  2009         382000     120000  ...       Manual   19.3 kmpl    73.9 bhp\n",
              "8126  2013         290000      25000  ...       Manual  23.57 kmpl      70 bhp\n",
              "8127  2013         290000      25000  ...       Manual  23.57 kmpl      70 bhp\n",
              "\n",
              "[8128 rows x 7 columns]"
            ]
          },
          "metadata": {
            "tags": []
          },
          "execution_count": 168
        }
      ]
    },
    {
      "cell_type": "markdown",
      "metadata": {
        "id": "j3AmDROzWESE"
      },
      "source": [
        "### 4.2. Rows removal (condensation).\r\n",
        "In the current section some rows are discarded because they have some missing value within them. For the particular project, it was decided to remove the elements instead of predicting, replacing with a significant measure, recover or ignore them. That decision was taken because there are few rows with missing values (approximately 3%), so their removal would not affect so much the final results.\r\n",
        "\r\n",
        "**IMPORTANT:** Other interesting option would be to replace the missing values with a significant statistical measure. The fact that there are few rows with the specified characteristics gives us a lot of freedom to choice among the available alternatives."
      ]
    },
    {
      "cell_type": "markdown",
      "metadata": {
        "id": "8AJ0anaZYJT3"
      },
      "source": [
        "#### 4.2.1 Duplicated rows.\r\n",
        "It is decided to not remove the duplicated rows, because they can represent different objects, but with the same specifications, so it is believed that the remaining data can be important during the model generation or the prediction. \r\n",
        "\r\n",
        "Remember that the editing process was done before the rows removal, so there may be a lot of duplicated registers that in fact were not the same car. For that reason, in this particular case is not recommended to remove the duplicated rows at this point."
      ]
    },
    {
      "cell_type": "markdown",
      "metadata": {
        "id": "PIHj_1jKYRoC"
      },
      "source": [
        "#### 4.2.2. Rows with missing data\r\n",
        "On the other hand, the rows with missing information are going to be deleted because there are few, so it is believed that the fact of deleting them is not going to impact very much during the next phases."
      ]
    },
    {
      "cell_type": "code",
      "metadata": {
        "colab": {
          "base_uri": "https://localhost:8080/",
          "height": 181
        },
        "id": "D6610pyXWDWZ",
        "outputId": "83667612-e084-4e8c-e04a-17292f0b218c"
      },
      "source": [
        "condensed_df = edited_df.dropna()\r\n",
        "condensed_df.count()"
      ],
      "execution_count": 1,
      "outputs": [
        {
          "output_type": "error",
          "ename": "NameError",
          "evalue": "ignored",
          "traceback": [
            "\u001b[0;31m---------------------------------------------------------------------------\u001b[0m",
            "\u001b[0;31mNameError\u001b[0m                                 Traceback (most recent call last)",
            "\u001b[0;32m<ipython-input-1-861ac7e0b8e0>\u001b[0m in \u001b[0;36m<module>\u001b[0;34m()\u001b[0m\n\u001b[0;32m----> 1\u001b[0;31m \u001b[0mcondensed_df\u001b[0m \u001b[0;34m=\u001b[0m \u001b[0medited_df\u001b[0m\u001b[0;34m.\u001b[0m\u001b[0mdropna\u001b[0m\u001b[0;34m(\u001b[0m\u001b[0;34m)\u001b[0m\u001b[0;34m\u001b[0m\u001b[0;34m\u001b[0m\u001b[0m\n\u001b[0m\u001b[1;32m      2\u001b[0m \u001b[0mcondensed_df\u001b[0m\u001b[0;34m.\u001b[0m\u001b[0mcount\u001b[0m\u001b[0;34m(\u001b[0m\u001b[0;34m)\u001b[0m\u001b[0;34m\u001b[0m\u001b[0;34m\u001b[0m\u001b[0m\n",
            "\u001b[0;31mNameError\u001b[0m: name 'edited_df' is not defined"
          ]
        }
      ]
    },
    {
      "cell_type": "code",
      "metadata": {
        "colab": {
          "base_uri": "https://localhost:8080/",
          "height": 424
        },
        "id": "SEBxMFlg0u7T",
        "outputId": "7957d28d-fff0-4864-9423-fe9e7a89992d"
      },
      "source": [
        "condensed_df"
      ],
      "execution_count": null,
      "outputs": [
        {
          "output_type": "execute_result",
          "data": {
            "text/html": [
              "<div>\n",
              "<style scoped>\n",
              "    .dataframe tbody tr th:only-of-type {\n",
              "        vertical-align: middle;\n",
              "    }\n",
              "\n",
              "    .dataframe tbody tr th {\n",
              "        vertical-align: top;\n",
              "    }\n",
              "\n",
              "    .dataframe thead th {\n",
              "        text-align: right;\n",
              "    }\n",
              "</style>\n",
              "<table border=\"1\" class=\"dataframe\">\n",
              "  <thead>\n",
              "    <tr style=\"text-align: right;\">\n",
              "      <th></th>\n",
              "      <th>year</th>\n",
              "      <th>selling_price</th>\n",
              "      <th>km_driven</th>\n",
              "      <th>fuel</th>\n",
              "      <th>transmission</th>\n",
              "      <th>mileage</th>\n",
              "      <th>max_power</th>\n",
              "    </tr>\n",
              "  </thead>\n",
              "  <tbody>\n",
              "    <tr>\n",
              "      <th>0</th>\n",
              "      <td>2014</td>\n",
              "      <td>450000</td>\n",
              "      <td>145500</td>\n",
              "      <td>Diesel</td>\n",
              "      <td>Manual</td>\n",
              "      <td>23.4 kmpl</td>\n",
              "      <td>74 bhp</td>\n",
              "    </tr>\n",
              "    <tr>\n",
              "      <th>1</th>\n",
              "      <td>2014</td>\n",
              "      <td>370000</td>\n",
              "      <td>120000</td>\n",
              "      <td>Diesel</td>\n",
              "      <td>Manual</td>\n",
              "      <td>21.14 kmpl</td>\n",
              "      <td>103.52 bhp</td>\n",
              "    </tr>\n",
              "    <tr>\n",
              "      <th>2</th>\n",
              "      <td>2006</td>\n",
              "      <td>158000</td>\n",
              "      <td>140000</td>\n",
              "      <td>Petrol</td>\n",
              "      <td>Manual</td>\n",
              "      <td>17.7 kmpl</td>\n",
              "      <td>78 bhp</td>\n",
              "    </tr>\n",
              "    <tr>\n",
              "      <th>3</th>\n",
              "      <td>2010</td>\n",
              "      <td>225000</td>\n",
              "      <td>127000</td>\n",
              "      <td>Diesel</td>\n",
              "      <td>Manual</td>\n",
              "      <td>23.0 kmpl</td>\n",
              "      <td>90 bhp</td>\n",
              "    </tr>\n",
              "    <tr>\n",
              "      <th>4</th>\n",
              "      <td>2007</td>\n",
              "      <td>130000</td>\n",
              "      <td>120000</td>\n",
              "      <td>Petrol</td>\n",
              "      <td>Manual</td>\n",
              "      <td>16.1 kmpl</td>\n",
              "      <td>88.2 bhp</td>\n",
              "    </tr>\n",
              "    <tr>\n",
              "      <th>...</th>\n",
              "      <td>...</td>\n",
              "      <td>...</td>\n",
              "      <td>...</td>\n",
              "      <td>...</td>\n",
              "      <td>...</td>\n",
              "      <td>...</td>\n",
              "      <td>...</td>\n",
              "    </tr>\n",
              "    <tr>\n",
              "      <th>8123</th>\n",
              "      <td>2013</td>\n",
              "      <td>320000</td>\n",
              "      <td>110000</td>\n",
              "      <td>Petrol</td>\n",
              "      <td>Manual</td>\n",
              "      <td>18.5 kmpl</td>\n",
              "      <td>82.85 bhp</td>\n",
              "    </tr>\n",
              "    <tr>\n",
              "      <th>8124</th>\n",
              "      <td>2007</td>\n",
              "      <td>135000</td>\n",
              "      <td>119000</td>\n",
              "      <td>Diesel</td>\n",
              "      <td>Manual</td>\n",
              "      <td>16.8 kmpl</td>\n",
              "      <td>110 bhp</td>\n",
              "    </tr>\n",
              "    <tr>\n",
              "      <th>8125</th>\n",
              "      <td>2009</td>\n",
              "      <td>382000</td>\n",
              "      <td>120000</td>\n",
              "      <td>Diesel</td>\n",
              "      <td>Manual</td>\n",
              "      <td>19.3 kmpl</td>\n",
              "      <td>73.9 bhp</td>\n",
              "    </tr>\n",
              "    <tr>\n",
              "      <th>8126</th>\n",
              "      <td>2013</td>\n",
              "      <td>290000</td>\n",
              "      <td>25000</td>\n",
              "      <td>Diesel</td>\n",
              "      <td>Manual</td>\n",
              "      <td>23.57 kmpl</td>\n",
              "      <td>70 bhp</td>\n",
              "    </tr>\n",
              "    <tr>\n",
              "      <th>8127</th>\n",
              "      <td>2013</td>\n",
              "      <td>290000</td>\n",
              "      <td>25000</td>\n",
              "      <td>Diesel</td>\n",
              "      <td>Manual</td>\n",
              "      <td>23.57 kmpl</td>\n",
              "      <td>70 bhp</td>\n",
              "    </tr>\n",
              "  </tbody>\n",
              "</table>\n",
              "<p>7907 rows × 7 columns</p>\n",
              "</div>"
            ],
            "text/plain": [
              "      year  selling_price  km_driven  ... transmission     mileage   max_power\n",
              "0     2014         450000     145500  ...       Manual   23.4 kmpl      74 bhp\n",
              "1     2014         370000     120000  ...       Manual  21.14 kmpl  103.52 bhp\n",
              "2     2006         158000     140000  ...       Manual   17.7 kmpl      78 bhp\n",
              "3     2010         225000     127000  ...       Manual   23.0 kmpl      90 bhp\n",
              "4     2007         130000     120000  ...       Manual   16.1 kmpl    88.2 bhp\n",
              "...    ...            ...        ...  ...          ...         ...         ...\n",
              "8123  2013         320000     110000  ...       Manual   18.5 kmpl   82.85 bhp\n",
              "8124  2007         135000     119000  ...       Manual   16.8 kmpl     110 bhp\n",
              "8125  2009         382000     120000  ...       Manual   19.3 kmpl    73.9 bhp\n",
              "8126  2013         290000      25000  ...       Manual  23.57 kmpl      70 bhp\n",
              "8127  2013         290000      25000  ...       Manual  23.57 kmpl      70 bhp\n",
              "\n",
              "[7907 rows x 7 columns]"
            ]
          },
          "metadata": {
            "tags": []
          },
          "execution_count": 170
        }
      ]
    },
    {
      "cell_type": "markdown",
      "metadata": {
        "id": "481gFMBaYkRj"
      },
      "source": [
        "## 5. Data Transformation.\r\n",
        "Usually, the data are not in a suitable format for their analysis, so there may be some required transformations to be able to take advantage of it as much as you can. Nevertheless, before any action, you need to have clear what your expected results are, so you can look for the best method to achieve them. Precision and meticulousness are crucial aspects during this process. \r\n",
        "\r\n",
        "The basic approaches to data transformation considered (not all were applicable) for this project were:\r\n",
        "- Convert some data to their numeric value (delete their character part).\r\n",
        "- Convert categorical data to symbolic data.\r\n",
        "- Group or discretize data."
      ]
    },
    {
      "cell_type": "markdown",
      "metadata": {
        "id": "rmlzhNuW_IzA"
      },
      "source": [
        "### 5.1 Convert some data to their numeric value.\r\n",
        "During this step the values within the mileage and max_power columns are converted to their floating representation. This transformation is very important because if these columns are pretended to be used in a prediction model, their values must be represented as numbers and not as strings.\r\n",
        "\r\n",
        "Once all the values were replaced with their numerical representation, it is required to explicitly change the data type of the column."
      ]
    },
    {
      "cell_type": "code",
      "metadata": {
        "colab": {
          "base_uri": "https://localhost:8080/",
          "height": 574
        },
        "id": "iBvgsFt5ATQT",
        "outputId": "93bc68cf-5141-47c5-a480-da32dc8d7a67"
      },
      "source": [
        "transformed_df = condensed_df[:]\r\n",
        "\r\n",
        "# Replace non numerical values with its numerical representation\r\n",
        "# in the columns max_power and mileage.\r\n",
        "for i, row in transformed_df.iterrows():\r\n",
        "  if len(row['max_power'].split()) != 2:  \r\n",
        "    transformed_df.at[i, 'max_power'] = 0\r\n",
        "  else:\r\n",
        "    power, _ = row['max_power'].split()\r\n",
        "    transformed_df.at[i, 'max_power'] = float(power)\r\n",
        "\r\n",
        "  mileage, _ = row['mileage'].split()\r\n",
        "  transformed_df.at[i, 'mileage'] = float(mileage)\r\n",
        "  \r\n",
        "# Once all the values of each column are numeric, it is possible to \r\n",
        "# explicitly change their data type.\r\n",
        "transformed_df['mileage'] = pd.to_numeric(transformed_df['mileage'])\r\n",
        "transformed_df['max_power'] = pd.to_numeric(transformed_df['max_power'])\r\n",
        "\r\n",
        "print(transformed_df.dtypes)\r\n",
        "transformed_df"
      ],
      "execution_count": null,
      "outputs": [
        {
          "output_type": "stream",
          "text": [
            "year               int64\n",
            "selling_price      int64\n",
            "km_driven          int64\n",
            "fuel              object\n",
            "transmission      object\n",
            "mileage          float64\n",
            "max_power        float64\n",
            "dtype: object\n"
          ],
          "name": "stdout"
        },
        {
          "output_type": "execute_result",
          "data": {
            "text/html": [
              "<div>\n",
              "<style scoped>\n",
              "    .dataframe tbody tr th:only-of-type {\n",
              "        vertical-align: middle;\n",
              "    }\n",
              "\n",
              "    .dataframe tbody tr th {\n",
              "        vertical-align: top;\n",
              "    }\n",
              "\n",
              "    .dataframe thead th {\n",
              "        text-align: right;\n",
              "    }\n",
              "</style>\n",
              "<table border=\"1\" class=\"dataframe\">\n",
              "  <thead>\n",
              "    <tr style=\"text-align: right;\">\n",
              "      <th></th>\n",
              "      <th>year</th>\n",
              "      <th>selling_price</th>\n",
              "      <th>km_driven</th>\n",
              "      <th>fuel</th>\n",
              "      <th>transmission</th>\n",
              "      <th>mileage</th>\n",
              "      <th>max_power</th>\n",
              "    </tr>\n",
              "  </thead>\n",
              "  <tbody>\n",
              "    <tr>\n",
              "      <th>0</th>\n",
              "      <td>2014</td>\n",
              "      <td>450000</td>\n",
              "      <td>145500</td>\n",
              "      <td>Diesel</td>\n",
              "      <td>Manual</td>\n",
              "      <td>23.40</td>\n",
              "      <td>74.00</td>\n",
              "    </tr>\n",
              "    <tr>\n",
              "      <th>1</th>\n",
              "      <td>2014</td>\n",
              "      <td>370000</td>\n",
              "      <td>120000</td>\n",
              "      <td>Diesel</td>\n",
              "      <td>Manual</td>\n",
              "      <td>21.14</td>\n",
              "      <td>103.52</td>\n",
              "    </tr>\n",
              "    <tr>\n",
              "      <th>2</th>\n",
              "      <td>2006</td>\n",
              "      <td>158000</td>\n",
              "      <td>140000</td>\n",
              "      <td>Petrol</td>\n",
              "      <td>Manual</td>\n",
              "      <td>17.70</td>\n",
              "      <td>78.00</td>\n",
              "    </tr>\n",
              "    <tr>\n",
              "      <th>3</th>\n",
              "      <td>2010</td>\n",
              "      <td>225000</td>\n",
              "      <td>127000</td>\n",
              "      <td>Diesel</td>\n",
              "      <td>Manual</td>\n",
              "      <td>23.00</td>\n",
              "      <td>90.00</td>\n",
              "    </tr>\n",
              "    <tr>\n",
              "      <th>4</th>\n",
              "      <td>2007</td>\n",
              "      <td>130000</td>\n",
              "      <td>120000</td>\n",
              "      <td>Petrol</td>\n",
              "      <td>Manual</td>\n",
              "      <td>16.10</td>\n",
              "      <td>88.20</td>\n",
              "    </tr>\n",
              "    <tr>\n",
              "      <th>...</th>\n",
              "      <td>...</td>\n",
              "      <td>...</td>\n",
              "      <td>...</td>\n",
              "      <td>...</td>\n",
              "      <td>...</td>\n",
              "      <td>...</td>\n",
              "      <td>...</td>\n",
              "    </tr>\n",
              "    <tr>\n",
              "      <th>8123</th>\n",
              "      <td>2013</td>\n",
              "      <td>320000</td>\n",
              "      <td>110000</td>\n",
              "      <td>Petrol</td>\n",
              "      <td>Manual</td>\n",
              "      <td>18.50</td>\n",
              "      <td>82.85</td>\n",
              "    </tr>\n",
              "    <tr>\n",
              "      <th>8124</th>\n",
              "      <td>2007</td>\n",
              "      <td>135000</td>\n",
              "      <td>119000</td>\n",
              "      <td>Diesel</td>\n",
              "      <td>Manual</td>\n",
              "      <td>16.80</td>\n",
              "      <td>110.00</td>\n",
              "    </tr>\n",
              "    <tr>\n",
              "      <th>8125</th>\n",
              "      <td>2009</td>\n",
              "      <td>382000</td>\n",
              "      <td>120000</td>\n",
              "      <td>Diesel</td>\n",
              "      <td>Manual</td>\n",
              "      <td>19.30</td>\n",
              "      <td>73.90</td>\n",
              "    </tr>\n",
              "    <tr>\n",
              "      <th>8126</th>\n",
              "      <td>2013</td>\n",
              "      <td>290000</td>\n",
              "      <td>25000</td>\n",
              "      <td>Diesel</td>\n",
              "      <td>Manual</td>\n",
              "      <td>23.57</td>\n",
              "      <td>70.00</td>\n",
              "    </tr>\n",
              "    <tr>\n",
              "      <th>8127</th>\n",
              "      <td>2013</td>\n",
              "      <td>290000</td>\n",
              "      <td>25000</td>\n",
              "      <td>Diesel</td>\n",
              "      <td>Manual</td>\n",
              "      <td>23.57</td>\n",
              "      <td>70.00</td>\n",
              "    </tr>\n",
              "  </tbody>\n",
              "</table>\n",
              "<p>7907 rows × 7 columns</p>\n",
              "</div>"
            ],
            "text/plain": [
              "      year  selling_price  km_driven    fuel transmission  mileage  max_power\n",
              "0     2014         450000     145500  Diesel       Manual    23.40      74.00\n",
              "1     2014         370000     120000  Diesel       Manual    21.14     103.52\n",
              "2     2006         158000     140000  Petrol       Manual    17.70      78.00\n",
              "3     2010         225000     127000  Diesel       Manual    23.00      90.00\n",
              "4     2007         130000     120000  Petrol       Manual    16.10      88.20\n",
              "...    ...            ...        ...     ...          ...      ...        ...\n",
              "8123  2013         320000     110000  Petrol       Manual    18.50      82.85\n",
              "8124  2007         135000     119000  Diesel       Manual    16.80     110.00\n",
              "8125  2009         382000     120000  Diesel       Manual    19.30      73.90\n",
              "8126  2013         290000      25000  Diesel       Manual    23.57      70.00\n",
              "8127  2013         290000      25000  Diesel       Manual    23.57      70.00\n",
              "\n",
              "[7907 rows x 7 columns]"
            ]
          },
          "metadata": {
            "tags": []
          },
          "execution_count": 171
        }
      ]
    },
    {
      "cell_type": "markdown",
      "metadata": {
        "id": "roXcF9scCP9e"
      },
      "source": [
        "### 5.2 Convert categorical data to symbolic data.\r\n",
        "This step is not actually required to prove the initial hypothesis because the engine power is a numeric value. Nevertheless, as it was cleared up before, it is pretended to look for additional information that may not be related with the hypothesis, so the conversion of the fuel and transmission columns from categorical to symbolic data may add value to the research in the next phase.\r\n",
        "\r\n",
        "**INTERESTING FACT:** The commented code represents an approach for deleting the rows that contain an outlier value for the selling_price column. Based on some tests run, it was confirmed that if the outliers values are deleted, the correlation between the diferent categories decreases considerably. For that reason, it was decided to not remove that values."
      ]
    },
    {
      "cell_type": "code",
      "metadata": {
        "colab": {
          "base_uri": "https://localhost:8080/",
          "height": 424
        },
        "id": "uzHAnwhrCVZc",
        "outputId": "3c850b80-71ab-4cae-ba13-df542e81a5a7"
      },
      "source": [
        "categorical_df = pd.get_dummies(transformed_df, columns=['fuel', 'transmission'])\r\n",
        "categorical_df\r\n",
        "\r\n",
        "# first_quartil = np.percentile(categorical_df['selling_price'], 25)\r\n",
        "# third_quartil = np.percentile(categorical_df['selling_price'], 75)\r\n",
        "# for i, row in categorical_df.iterrows():\r\n",
        "#   if categorical_df.at[i, 'selling_price'] > third_quartil or categorical_df.at[i, 'selling_price'] < first_quartil:\r\n",
        "#     categorical_df.drop(i, inplace=True)\r\n",
        "\r\n",
        "\r\n"
      ],
      "execution_count": null,
      "outputs": [
        {
          "output_type": "execute_result",
          "data": {
            "text/html": [
              "<div>\n",
              "<style scoped>\n",
              "    .dataframe tbody tr th:only-of-type {\n",
              "        vertical-align: middle;\n",
              "    }\n",
              "\n",
              "    .dataframe tbody tr th {\n",
              "        vertical-align: top;\n",
              "    }\n",
              "\n",
              "    .dataframe thead th {\n",
              "        text-align: right;\n",
              "    }\n",
              "</style>\n",
              "<table border=\"1\" class=\"dataframe\">\n",
              "  <thead>\n",
              "    <tr style=\"text-align: right;\">\n",
              "      <th></th>\n",
              "      <th>year</th>\n",
              "      <th>selling_price</th>\n",
              "      <th>km_driven</th>\n",
              "      <th>mileage</th>\n",
              "      <th>max_power</th>\n",
              "      <th>fuel_CNG</th>\n",
              "      <th>fuel_Diesel</th>\n",
              "      <th>fuel_LPG</th>\n",
              "      <th>fuel_Petrol</th>\n",
              "      <th>transmission_Automatic</th>\n",
              "      <th>transmission_Manual</th>\n",
              "    </tr>\n",
              "  </thead>\n",
              "  <tbody>\n",
              "    <tr>\n",
              "      <th>0</th>\n",
              "      <td>2014</td>\n",
              "      <td>450000</td>\n",
              "      <td>145500</td>\n",
              "      <td>23.40</td>\n",
              "      <td>74.00</td>\n",
              "      <td>0</td>\n",
              "      <td>1</td>\n",
              "      <td>0</td>\n",
              "      <td>0</td>\n",
              "      <td>0</td>\n",
              "      <td>1</td>\n",
              "    </tr>\n",
              "    <tr>\n",
              "      <th>1</th>\n",
              "      <td>2014</td>\n",
              "      <td>370000</td>\n",
              "      <td>120000</td>\n",
              "      <td>21.14</td>\n",
              "      <td>103.52</td>\n",
              "      <td>0</td>\n",
              "      <td>1</td>\n",
              "      <td>0</td>\n",
              "      <td>0</td>\n",
              "      <td>0</td>\n",
              "      <td>1</td>\n",
              "    </tr>\n",
              "    <tr>\n",
              "      <th>2</th>\n",
              "      <td>2006</td>\n",
              "      <td>158000</td>\n",
              "      <td>140000</td>\n",
              "      <td>17.70</td>\n",
              "      <td>78.00</td>\n",
              "      <td>0</td>\n",
              "      <td>0</td>\n",
              "      <td>0</td>\n",
              "      <td>1</td>\n",
              "      <td>0</td>\n",
              "      <td>1</td>\n",
              "    </tr>\n",
              "    <tr>\n",
              "      <th>3</th>\n",
              "      <td>2010</td>\n",
              "      <td>225000</td>\n",
              "      <td>127000</td>\n",
              "      <td>23.00</td>\n",
              "      <td>90.00</td>\n",
              "      <td>0</td>\n",
              "      <td>1</td>\n",
              "      <td>0</td>\n",
              "      <td>0</td>\n",
              "      <td>0</td>\n",
              "      <td>1</td>\n",
              "    </tr>\n",
              "    <tr>\n",
              "      <th>4</th>\n",
              "      <td>2007</td>\n",
              "      <td>130000</td>\n",
              "      <td>120000</td>\n",
              "      <td>16.10</td>\n",
              "      <td>88.20</td>\n",
              "      <td>0</td>\n",
              "      <td>0</td>\n",
              "      <td>0</td>\n",
              "      <td>1</td>\n",
              "      <td>0</td>\n",
              "      <td>1</td>\n",
              "    </tr>\n",
              "    <tr>\n",
              "      <th>...</th>\n",
              "      <td>...</td>\n",
              "      <td>...</td>\n",
              "      <td>...</td>\n",
              "      <td>...</td>\n",
              "      <td>...</td>\n",
              "      <td>...</td>\n",
              "      <td>...</td>\n",
              "      <td>...</td>\n",
              "      <td>...</td>\n",
              "      <td>...</td>\n",
              "      <td>...</td>\n",
              "    </tr>\n",
              "    <tr>\n",
              "      <th>8123</th>\n",
              "      <td>2013</td>\n",
              "      <td>320000</td>\n",
              "      <td>110000</td>\n",
              "      <td>18.50</td>\n",
              "      <td>82.85</td>\n",
              "      <td>0</td>\n",
              "      <td>0</td>\n",
              "      <td>0</td>\n",
              "      <td>1</td>\n",
              "      <td>0</td>\n",
              "      <td>1</td>\n",
              "    </tr>\n",
              "    <tr>\n",
              "      <th>8124</th>\n",
              "      <td>2007</td>\n",
              "      <td>135000</td>\n",
              "      <td>119000</td>\n",
              "      <td>16.80</td>\n",
              "      <td>110.00</td>\n",
              "      <td>0</td>\n",
              "      <td>1</td>\n",
              "      <td>0</td>\n",
              "      <td>0</td>\n",
              "      <td>0</td>\n",
              "      <td>1</td>\n",
              "    </tr>\n",
              "    <tr>\n",
              "      <th>8125</th>\n",
              "      <td>2009</td>\n",
              "      <td>382000</td>\n",
              "      <td>120000</td>\n",
              "      <td>19.30</td>\n",
              "      <td>73.90</td>\n",
              "      <td>0</td>\n",
              "      <td>1</td>\n",
              "      <td>0</td>\n",
              "      <td>0</td>\n",
              "      <td>0</td>\n",
              "      <td>1</td>\n",
              "    </tr>\n",
              "    <tr>\n",
              "      <th>8126</th>\n",
              "      <td>2013</td>\n",
              "      <td>290000</td>\n",
              "      <td>25000</td>\n",
              "      <td>23.57</td>\n",
              "      <td>70.00</td>\n",
              "      <td>0</td>\n",
              "      <td>1</td>\n",
              "      <td>0</td>\n",
              "      <td>0</td>\n",
              "      <td>0</td>\n",
              "      <td>1</td>\n",
              "    </tr>\n",
              "    <tr>\n",
              "      <th>8127</th>\n",
              "      <td>2013</td>\n",
              "      <td>290000</td>\n",
              "      <td>25000</td>\n",
              "      <td>23.57</td>\n",
              "      <td>70.00</td>\n",
              "      <td>0</td>\n",
              "      <td>1</td>\n",
              "      <td>0</td>\n",
              "      <td>0</td>\n",
              "      <td>0</td>\n",
              "      <td>1</td>\n",
              "    </tr>\n",
              "  </tbody>\n",
              "</table>\n",
              "<p>7907 rows × 11 columns</p>\n",
              "</div>"
            ],
            "text/plain": [
              "      year  selling_price  ...  transmission_Automatic  transmission_Manual\n",
              "0     2014         450000  ...                       0                    1\n",
              "1     2014         370000  ...                       0                    1\n",
              "2     2006         158000  ...                       0                    1\n",
              "3     2010         225000  ...                       0                    1\n",
              "4     2007         130000  ...                       0                    1\n",
              "...    ...            ...  ...                     ...                  ...\n",
              "8123  2013         320000  ...                       0                    1\n",
              "8124  2007         135000  ...                       0                    1\n",
              "8125  2009         382000  ...                       0                    1\n",
              "8126  2013         290000  ...                       0                    1\n",
              "8127  2013         290000  ...                       0                    1\n",
              "\n",
              "[7907 rows x 11 columns]"
            ]
          },
          "metadata": {
            "tags": []
          },
          "execution_count": 172
        }
      ]
    },
    {
      "cell_type": "markdown",
      "metadata": {
        "id": "X80Gt0Q2D7cp"
      },
      "source": [
        "### 5.3 Grouping or data discretization\r\n",
        "It was considered to group the data within the km_driven column, but after seeing its maximum and minimum value calculated before, it was decided to do not do it, because the range is so wide ([1, 2360457]) for creating groups. Usually it is recommended to create **sqrt(n)** intervals, where **n** is the range given by substracting the minimum value of the maximum value. If we calculate that value, we would have almost 1537 different categories. So, once discovered that data, it was determined to not have any grouping or discretization process.\r\n"
      ]
    },
    {
      "cell_type": "markdown",
      "metadata": {
        "id": "I0rNNK3MEv2v"
      },
      "source": [
        "## 6. Data Mining\r\n",
        "Data mining is the process of finding anomalies, patterns and correlations within large data sets to predict outcomes. Using a broad range of techniques, you can use this information to increase revenues, cut costs, improve customer relationships, reduce risks and more (SAS Institute Inc., 2021).\r\n",
        "\r\n",
        "The section has the purpose of visualize the data in order to discover new facts that can add value to the current research. It was decided to separate the model generation from data mining, based on the definition provided in the previous paragraph. Thus, the visual analysis of the data is the only subsection in the step."
      ]
    },
    {
      "cell_type": "markdown",
      "metadata": {
        "id": "_HxRbn5ab8aw"
      },
      "source": [
        "### 6.1 Visual analysis of the data.\r\n",
        "Data visualization is the graphical representation of information and data. By using visual elements like charts, graphs, and maps, data visualization tools provide an accessible way to see and understand trends, outliers, and patterns in data (Tableau Software, 2021).\r\n",
        "\r\n"
      ]
    },
    {
      "cell_type": "markdown",
      "metadata": {
        "id": "T4xqbt9KIwAs"
      },
      "source": [
        "In the following example, it was decided to compare the average selling price of the different cars based on the fuel type they have. Though that data may not contribute to the approval or dismissal of the hypothesis being assessed, it is believed that this can be an interesting fact to consider in other sort of researches."
      ]
    },
    {
      "cell_type": "code",
      "metadata": {
        "colab": {
          "base_uri": "https://localhost:8080/",
          "height": 366
        },
        "id": "3L4LnzH_Kxk-",
        "outputId": "b2dad12c-620e-4b94-be59-50607eba5806"
      },
      "source": [
        "# Create 2 different lists to store the fuel categories and its respective \r\n",
        "# average selling price.\r\n",
        "categories = [\"CNG\", \"Diesel\", \"LPG\", \"Petrol\"]\r\n",
        "average_per_category = []\r\n",
        "\r\n",
        "# Calculate the average selling price for each different fuel type.\r\n",
        "average_per_category.append(categorical_df.groupby('fuel_CNG')['selling_price'].mean()[1])\r\n",
        "average_per_category.append(categorical_df.groupby('fuel_Diesel')['selling_price'].mean()[1])\r\n",
        "average_per_category.append(categorical_df.groupby('fuel_LPG')['selling_price'].mean()[1])\r\n",
        "average_per_category.append(categorical_df.groupby('fuel_Petrol')['selling_price'].mean()[1])\r\n",
        "\r\n",
        "# Construct a bar chart to visualize the data.\r\n",
        "fig = plt.figure()\r\n",
        "ax = fig.add_axes([0, 0, 1, 1])\r\n",
        "ax.set_title(\"Car's average selling price grouped by their fuel type.\")\r\n",
        "ax.set_ylabel(\"Selling price [$]\")\r\n",
        "ax.set_xlabel(\"Fuel type\")\r\n",
        "ax.bar(categories, average_per_category)\r\n",
        "plt.show()"
      ],
      "execution_count": null,
      "outputs": [
        {
          "output_type": "display_data",
          "data": {
            "image/png": "[encoded data removed]",
            "text/plain": [
              "<Figure size 432x288 with 1 Axes>"
            ]
          },
          "metadata": {
            "tags": [],
            "needs_background": "light"
          }
        }
      ]
    },
    {
      "cell_type": "markdown",
      "metadata": {
        "id": "WDx16qPXcU3f"
      },
      "source": [
        "In the following example, it was decided to compare the average selling price of the different cars based on the transmission type they have. Though that data may not contribute to the approval or dismissal of the hypothesis being assessed, it is believed that this can be an interesting fact to consider in other sort of researches."
      ]
    },
    {
      "cell_type": "code",
      "metadata": {
        "colab": {
          "base_uri": "https://localhost:8080/",
          "height": 366
        },
        "id": "j0Lp6_QdJYlR",
        "outputId": "f7809bde-268f-4355-9542-550de1fc688a"
      },
      "source": [
        "# Create 2 different lists to store the transmission categories and its respective \r\n",
        "# average selling price.\r\n",
        "transmissions = [\"Automatic\", \"Manual\"]\r\n",
        "average_per_transmission = []\r\n",
        "\r\n",
        "# Calculate the average selling price for each different transmission type.\r\n",
        "average_per_transmission.append(categorical_df.groupby('transmission_Automatic')['selling_price'].mean()[1])\r\n",
        "average_per_transmission.append(categorical_df.groupby('transmission_Manual')['selling_price'].mean()[1])\r\n",
        "\r\n",
        "# Construct a bar chart to visualize the data.\r\n",
        "fig = plt.figure()\r\n",
        "ax = fig.add_axes([0, 0, 1, 1])\r\n",
        "ax.set_ylabel(\"Selling price [$]\")\r\n",
        "ax.set_xlabel(\"Transmission type\")\r\n",
        "ax.bar(transmissions, average_per_transmission)\r\n",
        "plt.ticklabel_format(style='plain', axis='y')\r\n",
        "ax.set_title (\"Car's average selling price grouped by their transmission type.\")\r\n",
        "plt.show()"
      ],
      "execution_count": null,
      "outputs": [
        {
          "output_type": "display_data",
          "data": {
            "image/png": "[encoded data removed]",
            "text/plain": [
              "<Figure size 432x288 with 1 Axes>"
            ]
          },
          "metadata": {
            "tags": [],
            "needs_background": "light"
          }
        }
      ]
    },
    {
      "cell_type": "markdown",
      "metadata": {
        "id": "xGUlLptjccif"
      },
      "source": [
        "The following chart is related with the initial hypothesis. Seeing the correlation between the different data present within the dataset can be very useful while thinking about the prediction models it can be done. In the example, it can be seen that the selling price and the max power has the greater relation among the possible combinations of data. So, until this section, the initial hypothesis cannot be discarded."
      ]
    },
    {
      "cell_type": "code",
      "metadata": {
        "colab": {
          "base_uri": "https://localhost:8080/",
          "height": 342
        },
        "id": "2y_OpHWmLiLC",
        "outputId": "f302c721-32cd-47ee-f976-4269a7618e75"
      },
      "source": [
        "# Drop the columns that are not needed anymore.\r\n",
        "correlation_df = categorical_df.drop(['fuel_CNG', 'fuel_Diesel', 'fuel_LPG', 'fuel_Petrol', 'transmission_Automatic', 'transmission_Manual'], axis=1)\r\n",
        "\r\n",
        "# Find the pairwise correlation of all columns in the dataframe.\r\n",
        "corr = correlation_df.corr()\r\n",
        "\r\n",
        "# Visualize the correlation of all columns in a friendly way.\r\n",
        "ax = sns.heatmap(\r\n",
        "    corr, \r\n",
        "    vmin=-1, vmax=1, center=0,\r\n",
        "    cmap=sns.diverging_palette(20, 220, n=200),\r\n",
        "    square=True\r\n",
        ")\r\n",
        "ax.set_xticklabels(\r\n",
        "    ax.get_xticklabels(),\r\n",
        "    rotation=45,\r\n",
        "    horizontalalignment='right'\r\n",
        ");\r\n",
        "ax.set_title (\"Correlation of all columns within the data.\")"
      ],
      "execution_count": null,
      "outputs": [
        {
          "output_type": "execute_result",
          "data": {
            "text/plain": [
              "Text(0.5, 1.0, 'Correlation of all columns within the data.')"
            ]
          },
          "metadata": {
            "tags": []
          },
          "execution_count": 153
        },
        {
          "output_type": "display_data",
          "data": {
            "image/png": "[encoded data removed]",
            "text/plain": [
              "<Figure size 432x288 with 2 Axes>"
            ]
          },
          "metadata": {
            "tags": [],
            "needs_background": "light"
          }
        }
      ]
    },
    {
      "cell_type": "markdown",
      "metadata": {
        "id": "K-bsldEPeMVM"
      },
      "source": [
        "The following boxplots are useful to see the values distribution of the 2 data categories that the hypothesis use. \r\n",
        "\r\n",
        "A box plot shows the distribution of quantitative data in a way that facilitates comparisons between variables or across levels of a categorical variable. The box shows the quartiles of the dataset while the whiskers extend to show the rest of the distribution, except for points that are determined to be “outliers” using a method that is a function of the inter-quartile range (Waskorn, 2021).\r\n",
        "\r\n",
        "Though the selling price and the max power are different variables and obviously do not have the same characteristics or metrics, with the help of the boxplots it can be seen that in both exist some similar distribution of the data (especially in the presence of outliers), so a simple prediction model like the linear regression still be very still be suitable. For that reason, the initial hypothesis cannot be discarded yet."
      ]
    },
    {
      "cell_type": "code",
      "metadata": {
        "colab": {
          "base_uri": "https://localhost:8080/",
          "height": 300
        },
        "id": "40-54bieP4vM",
        "outputId": "b04e09ca-4145-42d6-dcb8-5ebc2da4ebc4"
      },
      "source": [
        "ax = sns.boxplot(data=correlation_df['selling_price'])\r\n",
        "plt.ylabel('Selling Price [$]')\r\n",
        "plt.ticklabel_format(style='plain', axis='y')\r\n",
        "ax.set_title (\"Boxplot for selling price values.\")"
      ],
      "execution_count": null,
      "outputs": [
        {
          "output_type": "execute_result",
          "data": {
            "text/plain": [
              "Text(0.5, 1.0, 'Boxplot for selling price values.')"
            ]
          },
          "metadata": {
            "tags": []
          },
          "execution_count": 182
        },
        {
          "output_type": "display_data",
          "data": {
            "image/png": "[encoded data removed]",
            "text/plain": [
              "<Figure size 432x288 with 1 Axes>"
            ]
          },
          "metadata": {
            "tags": [],
            "needs_background": "light"
          }
        }
      ]
    },
    {
      "cell_type": "code",
      "metadata": {
        "colab": {
          "base_uri": "https://localhost:8080/",
          "height": 300
        },
        "id": "6UKtK0XpYGdg",
        "outputId": "60154c9a-bb54-49a1-eea5-ba95b4d84497"
      },
      "source": [
        "ax = sns.boxplot(data=correlation_df['max_power'])\r\n",
        "plt.ylabel('Max Power [bhp]')\r\n",
        "ax.set_title (\"Boxplot for max power values.\")"
      ],
      "execution_count": null,
      "outputs": [
        {
          "output_type": "execute_result",
          "data": {
            "text/plain": [
              "Text(0.5, 1.0, 'Boxplot for max power values.')"
            ]
          },
          "metadata": {
            "tags": []
          },
          "execution_count": 183
        },
        {
          "output_type": "display_data",
          "data": {
            "image/png": "[encoded data removed]",
            "text/plain": [
              "<Figure size 432x288 with 1 Axes>"
            ]
          },
          "metadata": {
            "tags": [],
            "needs_background": "light"
          }
        }
      ]
    },
    {
      "cell_type": "markdown",
      "metadata": {
        "id": "lUIZwjlzhHtd"
      },
      "source": [
        "Before, adventuring on doing the model, the data was visualized in a scatter plot. This diagram can be helpful during looking for a trend in the relation of the 2 data categories. Additionally, it was calculated the Pearson correlation to add evidence to their linear relationship.\r\n",
        "\r\n",
        "The Pearson Correlation evaluates whether there is statistical evidence for a linear relationship among the same pairs of variables in the population, represented by a population correlation coefficient. Correlation can take on any value in the range [-1, 1]. The sign of the correlation coefficient indicates the direction of the relationship, while the magnitude of the correlation (how close it is to -1 or +1) indicates the strength of the relationship. (Kent State University, 2021)."
      ]
    },
    {
      "cell_type": "code",
      "metadata": {
        "colab": {
          "base_uri": "https://localhost:8080/",
          "height": 314
        },
        "id": "QcIFMbPOcQpb",
        "outputId": "2ac00c33-ec9c-4cd5-d68f-b5137eddcb24"
      },
      "source": [
        "# Create the scatter plot.\r\n",
        "plt.scatter(correlation_df['max_power'], correlation_df['selling_price'])\r\n",
        "plt.ylabel('Selling Price [$]')\r\n",
        "plt.xlabel('Max Power [bhp]')\r\n",
        "plt.ticklabel_format(style='plain', axis='x')\r\n",
        "plt.ticklabel_format(style='plain', axis='y')\r\n",
        "plt.title(\"Relation between the selling price of a car and its max power\")\r\n",
        "plt.show()\r\n",
        "\r\n",
        "# Find the Pearson correlation.\r\n",
        "corr, _ = pearsonr(correlation_df['selling_price'], correlation_df['max_power'])\r\n",
        "print(\"The Pearson correlation of the selling price and the max power is: \" + str(corr))"
      ],
      "execution_count": null,
      "outputs": [
        {
          "output_type": "display_data",
          "data": {
            "image/png": "[encoded data removed]",
            "text/plain": [
              "<Figure size 432x288 with 1 Axes>"
            ]
          },
          "metadata": {
            "tags": [],
            "needs_background": "light"
          }
        },
        {
          "output_type": "stream",
          "text": [
            "The Pearson correlation of the selling price and the max power is: 0.7495663727543581\n"
          ],
          "name": "stdout"
        }
      ]
    },
    {
      "cell_type": "markdown",
      "metadata": {
        "id": "nZvlBKblQ_XU"
      },
      "source": [
        "## 7. Prediction model generation\r\n",
        "Predictive modeling is a process that uses data and statistics to predict outcomes with data models. These models can be used to predict anything from sports outcomes and TV ratings to technological advances and corporate earnings (MicroStrategy Incorporated, 2021).\r\n",
        "\r\n",
        "For the current research, it was pretended to construct a linear regression model. For that reason, in the previous steps there were selected some visual representations that could confirm that the variables being evaluated indeed have an acceptable relation."
      ]
    },
    {
      "cell_type": "markdown",
      "metadata": {
        "id": "DiMRjVbGROg-"
      },
      "source": [
        "### 7.1 Generation of the model\r\n",
        "This subsection is focused on the generation of the linear regression model. For the construction, it was used the module from sklearn. \r\n",
        "\r\n",
        "The module LinearRegression from the SKLearn library fits a linear model with coefficients w = (w1, …, wp) to minimize the residual sum of squares between the observed targets in the dataset, and the targets predicted by the linear approximation (scikit-learn developers, 2020)."
      ]
    },
    {
      "cell_type": "code",
      "metadata": {
        "id": "kB0VCg21S5MM"
      },
      "source": [
        "# Convert the Series to numpy arrays in order to be able to use the model\r\n",
        "# generator.\r\n",
        "max_power = np.asarray(correlation_df[['max_power']])\r\n",
        "selling_price = np.asarray(correlation_df[['selling_price']])\r\n",
        "\r\n",
        "# Generate the model with the specified data.\r\n",
        "linear_model = LinearRegression()\r\n",
        "linear_model.fit(max_power, selling_price)\r\n",
        "\r\n",
        "# Calculate the dependent variable but this time using the recent created model, and not\r\n",
        "# the real data.\r\n",
        "predicted_selling_price = linear_model.predict(max_power)"
      ],
      "execution_count": null,
      "outputs": []
    },
    {
      "cell_type": "markdown",
      "metadata": {
        "id": "vBqRJ9wzRXKR"
      },
      "source": [
        "### 7.2 Model measures and visualizations"
      ]
    },
    {
      "cell_type": "markdown",
      "metadata": {
        "id": "_snm2LIdS7Wi"
      },
      "source": [
        "Finally, it was required to see and evaluate the results of the prediction model. It was calculated the coefficient of determination (R^2) and it was created a scatter plot again comparing the selling price and the max power, but this time it was added a line representing results given by the model, so in this way it can be compared the real data against the produced by the model in a visual way. \r\n",
        "\r\n",
        "The coefficient of determination is a statistical measurement that examines how differences in one variable can be explained by the difference in a second variable, when predicting the outcome of a given event. In other words, this coefficient, which is more commonly known as R-squared (or R2), assesses how strong the linear relationship is between two variables, and is heavily relied on by researchers when conducting trend analysis. A value of 1.0 indicates a perfect fit, and is thus a highly reliable model for future forecasts, while a value of 0.0 would indicate that the calculation fails to accurately model the data at all (Bloomenthal, 2020). \r\n",
        "\r\n",
        "**What about the initial hypothesis?** Since the coefficient of determination was 0.5618, it can be concluded that 56.18% of the data fits the model. So the result of a prediction will not be bad, but neither it will be very precise. So, the result of this research indicates that the selling price of a car can be pretty well predicted given its max power, but if a more precise approximation is needed, it may be useful to generate a more powerful prediction model than the linear regression."
      ]
    },
    {
      "cell_type": "code",
      "metadata": {
        "colab": {
          "base_uri": "https://localhost:8080/",
          "height": 332
        },
        "id": "sUePMDr1kLLe",
        "outputId": "ce9b83c0-5086-4a98-e35f-3be549a14265"
      },
      "source": [
        "# Calculate the coefficient of determination (R^2) and the mean squared error.\r\n",
        "result = r2_score(selling_price, predicted_selling_price)\r\n",
        "print(\"Coefficient of determination (R^2): \" + str(result))\r\n",
        "print(\"Mean squared error: \" + str(mean_squared_error(selling_price, predicted_selling_price)))\r\n",
        "\r\n",
        "# Represent the real data and the results of the model visually.\r\n",
        "plt.scatter(max_power, selling_price)\r\n",
        "plt.plot(max_power, predicted_selling_price, color='red')\r\n",
        "plt.xlabel('Max Power [bhp]')\r\n",
        "plt.ylabel('Selling Price [$]')\r\n",
        "plt.ticklabel_format(style='plain', axis='x')\r\n",
        "plt.ticklabel_format(style='plain', axis='y')\r\n",
        "plt.title(\"Relation between the selling price of a car and its max power\")\r\n",
        "plt.show()"
      ],
      "execution_count": null,
      "outputs": [
        {
          "output_type": "stream",
          "text": [
            "Coefficient of determination (R^2): 0.561849747164126\n",
            "Mean squared error: 289963684101.7543\n"
          ],
          "name": "stdout"
        },
        {
          "output_type": "display_data",
          "data": {
            "image/png": "[encoded data removed]",
            "text/plain": [
              "<Figure size 432x288 with 1 Axes>"
            ]
          },
          "metadata": {
            "tags": [],
            "needs_background": "light"
          }
        }
      ]
    },
    {
      "cell_type": "markdown",
      "metadata": {
        "id": "MrxfSDgtpn8M"
      },
      "source": [
        "## 8. Proving the model\r\n",
        "The final section only pretends to play a little. Since a prediction model was generated, it can be predicted any selling price of a car you want given its max power. You only need to enter that value and WALLAAAAAH!, you will know the predicted price."
      ]
    },
    {
      "cell_type": "code",
      "metadata": {
        "id": "n2uHa4Ebk-M-",
        "colab": {
          "base_uri": "https://localhost:8080/"
        },
        "outputId": "72a9ca89-01c7-443c-a75c-56cef647b5d5"
      },
      "source": [
        "max_power = int(input())\r\n",
        "predicted_price = str(linear_model.predict([[max_power]])[0][0])\r\n",
        "print(\"The predicted selling price for a vehicle of {} bhp is ${}\".format(max_power, predicted_price))"
      ],
      "execution_count": null,
      "outputs": [
        {
          "output_type": "stream",
          "text": [
            "100\n",
            "The predicted selling price for a vehicle of 100 bhp is $793400.3835400103\n"
          ],
          "name": "stdout"
        }
      ]
    },
    {
      "cell_type": "markdown",
      "metadata": {
        "id": "0j1Ym_g1aUK1"
      },
      "source": [
        "## 9. References.\r\n",
        "\r\n",
        "- Bloomenthal, A. (2020) *Coefficient of Determination*. Investopedia. https://www.investopedia.com\r\n",
        "- Cepalia, A. (2021). *Scripts, Modules, Packages, and Libraries*. Real Python. https://realpython.com\r\n",
        "- Kent State University. (2021). *Pearson Correlation*. https://libguides.library.kent.edu\r\n",
        "- MicroStrategy Incorporated. (2021). *Predictive Modeling: The Only Guide You'll Need*. Microstrategy. https://www.microstrategy.cn\r\n",
        "- NumPy. (2021). *numpy.ndarray.shape*. https://numpy.org\r\n",
        "- pandas. (2019). *pandas.DataFrame.count*. https://pandas.pydata.org\r\n",
        "- pandas. (2021). *Intro to data structures*. https://pandas.pydata.org\r\n",
        "- pandas. (2021). *pandas.DataFrame.describe*. https://pandas.pydata.org\r\n",
        "- pandas. (2021). *pandas.DataFrame.dtypes*. https://pandas.pydata.org\r\n",
        "- pandas. (2021). *pandas.DataFrame.head*. https://pandas.pydata.org\r\n",
        "- pandas. (2021). *pandas.DataFrame.tail*. https://pandas.pydata.org\r\n",
        "- pandas. (2021). *pandas.Series.size*. https://pandas.pydata.org\r\n",
        "- SAS Institute Inc. (2021). *Data mining. What is it and why it matters*. SAS. https://www.sas.com\r\n",
        "- sci-kit developers. (2020). *sklearn.linear_model.LinearRegression*. Scikit Learn. https://scikit-learn.org\r\n",
        "- Tableau Software. (2021). *Data visualization beginner's guide: a definition, examples, and learning resources*. Tableau. https://www.tableau.com\r\n",
        "- Waskorn, M. (2021). *seaborn.boxplot*. Seaborn. https://seaborn.pydata.org"
      ]
    }
  ]
}